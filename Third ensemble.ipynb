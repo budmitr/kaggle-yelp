{
 "cells": [
  {
   "cell_type": "code",
   "execution_count": 1,
   "metadata": {
    "collapsed": false
   },
   "outputs": [
    {
     "name": "stderr",
     "output_type": "stream",
     "text": [
      "Using Theano backend.\n",
      "Using gpu device 0: GeForce GTX 670 (CNMeM is disabled, CuDNN 4007)\n"
     ]
    }
   ],
   "source": [
    "import numpy as np\n",
    "import pandas as pd\n",
    "import matplotlib.pyplot as plt\n",
    "\n",
    "from sklearn.metrics import f1_score\n",
    "from sklearn.cross_validation import train_test_split\n",
    "from sklearn.preprocessing import MultiLabelBinarizer\n",
    "from keras.layers import LeakyReLU, PReLU, ELU, ParametricSoftplus, ThresholdedLinear, ThresholdedReLU, SReLU\n",
    "\n",
    "from keras.models import Sequential\n",
    "from keras.layers import Dense, Activation, BatchNormalization, Dropout\n",
    "from keras.regularizers import l1, l2, l1l2\n",
    "from keras.optimizers import Adam\n",
    "from keras.callbacks import Callback\n",
    "from keras import backend as K\n",
    "\n",
    "%matplotlib inline\n",
    "plt.rcParams['figure.figsize'] = (10.0, 5.0) # set default size of plots\n",
    "plt.rcParams['image.interpolation'] = 'nearest'"
   ]
  },
  {
   "cell_type": "code",
   "execution_count": 2,
   "metadata": {
    "collapsed": true
   },
   "outputs": [],
   "source": [
    "categories = [\n",
    "  'good_for_lunch', \n",
    "  'good_for_dinner', \n",
    "  'takes_reservations', \n",
    "  'outdoor_seating',\n",
    "  'restaurant_is_expensive',\n",
    "  'has_alcohol',\n",
    "  'has_table_service',\n",
    "  'ambience_is_classy',\n",
    "  'good_for_kids'\n",
    "]\n",
    "\n",
    "vgg_cols = ['f' + str(i) for i in range(4096)]"
   ]
  },
  {
   "cell_type": "code",
   "execution_count": 3,
   "metadata": {
    "collapsed": false
   },
   "outputs": [
    {
     "name": "stdout",
     "output_type": "stream",
     "text": [
      "(1596, 4096) (400, 4096) (1596, 9) (400, 9)\n"
     ]
    }
   ],
   "source": [
    "data = pd.read_hdf('data/Xtrain_grouped.hdf5')\n",
    "X, Y = np.array(data[vgg_cols]), np.array(data[categories])\n",
    "\n",
    "random_state = np.random.RandomState(0)\n",
    "Xtrain, Xval, ytrain, yval = train_test_split(X, Y, test_size=.2, random_state=random_state)\n",
    "valset = (Xval, yval)\n",
    "\n",
    "print Xtrain.shape, Xval.shape, ytrain.shape, yval.shape"
   ]
  },
  {
   "cell_type": "code",
   "execution_count": 4,
   "metadata": {
    "collapsed": false
   },
   "outputs": [
    {
     "name": "stdout",
     "output_type": "stream",
     "text": [
      "1 1637\n",
      "2 1707\n",
      "3 1654\n",
      "4 1746\n",
      "5 1735\n",
      "6 1521\n"
     ]
    },
    {
     "data": {
      "text/plain": [
       "(10000, 4096)"
      ]
     },
     "execution_count": 4,
     "metadata": {},
     "output_type": "execute_result"
    }
   ],
   "source": [
    "mlb = MultiLabelBinarizer()\n",
    "mlb.fit([(0,1,2,3,4,5,6,7,8)])\n",
    "\n",
    "dataTest = None\n",
    "for i in range(1, 7):\n",
    "  part = pd.read_hdf('data/Xtest_grouped_part' + str(i) + '.hdf5', 'Xtest')\n",
    "  print i, len(part)\n",
    "  \n",
    "  if dataTest is None:\n",
    "    dataTest = part\n",
    "  else:\n",
    "    dataTest = dataTest.append(part)\n",
    "    \n",
    "Xtest = np.array(dataTest[vgg_cols])\n",
    "Xtest.shape"
   ]
  },
  {
   "cell_type": "code",
   "execution_count": 5,
   "metadata": {
    "collapsed": true
   },
   "outputs": [],
   "source": [
    "def loss(ytrue, ypred):\n",
    "  return K.sum( (ytrue - ypred) ** 2 )"
   ]
  },
  {
   "cell_type": "code",
   "execution_count": 6,
   "metadata": {
    "collapsed": true
   },
   "outputs": [],
   "source": [
    "class f1stopperCallback(Callback):\n",
    "  def __init__(self):\n",
    "    self.bestf1val = 0\n",
    "\n",
    "  def on_epoch_end(self, epoch, logs={}):\n",
    "    pred = self.model.predict(Xval)\n",
    "    pred[pred < .5] = 0\n",
    "    pred[pred >= .5] = 1\n",
    "    f1_val = f1_score(yval, pred, average='micro')\n",
    "\n",
    "    if f1_val > self.bestf1val:\n",
    "      self.bestf1val = f1_val\n",
    "      self.model.save_weights('models/tmp_weights.h5', overwrite=True)"
   ]
  },
  {
   "cell_type": "markdown",
   "metadata": {},
   "source": [
    "# Train models"
   ]
  },
  {
   "cell_type": "code",
   "execution_count": 7,
   "metadata": {
    "collapsed": false
   },
   "outputs": [
    {
     "name": "stdout",
     "output_type": "stream",
     "text": [
      "[50, 100, 150, 200, 250, 300, 350, 400, 450, 500]\n",
      "[ 0.1  0.2  0.3  0.4  0.5]\n"
     ]
    }
   ],
   "source": [
    "neurons = range(50, 501, 50)\n",
    "dropout_vals = np.linspace(.1, .5, 5)\n",
    "print neurons\n",
    "print dropout_vals"
   ]
  },
  {
   "cell_type": "code",
   "execution_count": 8,
   "metadata": {
    "collapsed": true
   },
   "outputs": [],
   "source": [
    "def get_model(n_neurons, dropout_val):\n",
    "  model = Sequential()\n",
    "  np.random.seed(0)\n",
    "  \n",
    "  model.add(Dense(n_neurons, input_shape=(4096,), activation='softplus'))\n",
    "  model.add(Dropout(dropout_val))\n",
    "\n",
    "  model.add(Dense(9, activation='sigmoid'))\n",
    "  model.compile(loss=loss, optimizer='adam')\n",
    "  \n",
    "  return model"
   ]
  },
  {
   "cell_type": "code",
   "execution_count": 9,
   "metadata": {
    "collapsed": false
   },
   "outputs": [
    {
     "name": "stdout",
     "output_type": "stream",
     "text": [
      "50 0.1 0.824536376605 0.839407744875\n",
      "50 0.2 0.825636719843 0.839831697055\n",
      "50 0.3 0.82888004548 0.841687907108\n",
      "50 0.4 0.828988828416 0.840915512857\n",
      "50 0.5 0.830654420207 0.837592277115\n",
      "100 0.1 0.824724809483 0.837446808511\n",
      "100 0.2 0.827861832715 0.841865756542\n",
      "100 0.3 0.831139095592 0.839021615472\n",
      "100 0.4 0.828596037898 0.841782729805\n",
      "100 0.5 0.840750069969 0.841927303466\n",
      "150 0.1 0.825231481481 0.837276399308\n",
      "150 0.2 0.828439838803 0.840157038699\n",
      "150 0.3 0.834272829763 0.841722595078\n",
      "150 0.4 0.8342760181 0.842706251784\n",
      "150 0.5 0.837510560406 0.84246188594\n",
      "200 0.1 0.825297787862 0.83917640512\n",
      "200 0.2 0.826326471441 0.839582745983\n",
      "200 0.3 0.82516671499 0.843907916901\n",
      "200 0.4 0.835273573923 0.842017275007\n",
      "200 0.5 0.831092928112 0.843475799604\n",
      "250 0.1 0.818689391713 0.838111298482\n",
      "250 0.2 0.820421490056 0.84007925276\n",
      "250 0.3 0.8233559422 0.841387151791\n",
      "250 0.4 0.830122591944 0.842885657257\n",
      "250 0.5 0.831146106737 0.845094180489\n",
      "300 0.1 0.819472616633 0.83949930459\n",
      "300 0.2 0.825174825175 0.838546069315\n",
      "300 0.3 0.827367205543 0.842374325476\n",
      "300 0.4 0.826312752452 0.841575859179\n",
      "300 0.5 0.829084588644 0.841748942172\n",
      "350 0.1 0.828947368421 0.844383561644\n",
      "350 0.2 0.828018223235 0.839966601726\n",
      "350 0.3 0.834973943254 0.845852017937\n",
      "350 0.4 0.828395423878 0.843803056027\n",
      "350 0.5 0.830439814815 0.843713956171\n",
      "400 0.1 0.828985507246 0.842896935933\n",
      "400 0.2 0.827666376053 0.84127874369\n",
      "400 0.3 0.823632130384 0.841206602163\n",
      "400 0.4 0.828943560058 0.842721695482\n",
      "400 0.5 0.832947976879 0.844910688971\n",
      "450 0.1 0.824006958539 0.840839160839\n",
      "450 0.2 0.832283915283 0.839896521989\n",
      "450 0.3 0.82945067587 0.842574533296\n",
      "450 0.4 0.830503597122 0.840563380282\n",
      "450 0.5 0.82818365579 0.846590909091\n",
      "500 0.1 0.817971014493 0.837631056957\n",
      "500 0.2 0.82102189781 0.840876743524\n",
      "500 0.3 0.822451994092 0.842543737851\n",
      "500 0.4 0.83044982699 0.844457175594\n",
      "500 0.5 0.834470989761 0.843353090601\n"
     ]
    }
   ],
   "source": [
    "models = []\n",
    "\n",
    "for neu in neurons:\n",
    "  for dro in dropout_vals:\n",
    "    print neu, dro,\n",
    "    model = get_model(neu, dro)\n",
    "    \n",
    "    model.fit(Xtrain, ytrain, verbose=0, callbacks=[f1stopperCallback()], nb_epoch=200)\n",
    "    \n",
    "    pred = model.predict(Xval)\n",
    "    pred[pred < .5] = 0\n",
    "    pred[pred >= .5] = 1\n",
    "    f1_val_last = f1_score(yval, pred, average='micro')\n",
    "    \n",
    "    model.load_weights('models/tmp_weights.h5')\n",
    "    \n",
    "    pred = model.predict(Xval)\n",
    "    pred[pred < .5] = 0\n",
    "    pred[pred >= .5] = 1\n",
    "    f1_val_best = f1_score(yval, pred, average='micro')\n",
    "    \n",
    "    print f1_val_last, f1_val_best\n",
    "    \n",
    "    models.append((f1_val_best, model))"
   ]
  },
  {
   "cell_type": "markdown",
   "metadata": {},
   "source": [
    "# 2-layer nets"
   ]
  },
  {
   "cell_type": "code",
   "execution_count": 11,
   "metadata": {
    "collapsed": false
   },
   "outputs": [],
   "source": [
    "def get_2_layer_model(n_neurons, dropout_val):\n",
    "  model = Sequential()\n",
    "  np.random.seed(0)\n",
    "  \n",
    "  model.add(Dense(n_neurons, input_shape=(4096,), activation='softplus'))\n",
    "  model.add(Dropout(dropout_val))\n",
    "  \n",
    "  model.add(Dense(n_neurons, activation='softplus'))\n",
    "  model.add(Dropout(dropout_val))\n",
    "\n",
    "  model.add(Dense(9, activation='sigmoid'))\n",
    "  model.compile(loss=loss, optimizer='adam')\n",
    "  \n",
    "  return model"
   ]
  },
  {
   "cell_type": "code",
   "execution_count": 12,
   "metadata": {
    "collapsed": false
   },
   "outputs": [
    {
     "name": "stdout",
     "output_type": "stream",
     "text": [
      "50 0.1 0.826200873362 0.845039018952\n",
      "50 0.2 0.82562902282 0.841037204059\n",
      "50 0.3 0.837666088966 0.84630404463\n",
      "50 0.4 0.827586206897 0.840902758429\n",
      "50 0.5 0.828579497317 0.835225699252\n",
      "100 0.1 0.817785527463 0.840839160839\n",
      "100 0.2 0.82318501171 0.84284509418\n",
      "100 0.3 0.827984966753 0.843264614516\n",
      "100 0.4 0.835152211373 0.841985168283\n",
      "100 0.5 0.839782172542 0.839782172542\n",
      "150 0.1 0.830177854274 0.845982142857\n",
      "150 0.2 0.825248392753 0.84440706476\n",
      "150 0.3 0.834907010014 0.844837421563\n",
      "150 0.4 0.839750849377 0.842016333427\n",
      "150 0.5 0.840660879306 0.842458100559\n",
      "200 0.1 0.820886814469 0.844884488449\n",
      "200 0.2 0.827149841818 0.843408175014\n",
      "200 0.3 0.830795748348 0.843741169822\n",
      "200 0.4 0.83284457478 0.844581349762\n",
      "200 0.5 0.838001732602 0.844998583168\n",
      "250 0.1 0.828248587571 0.840832395951\n",
      "250 0.2 0.828870779977 0.84171848502\n",
      "250 0.3 0.831034482759 0.844031531532\n",
      "250 0.4 0.831837916064 0.846305141894\n",
      "250 0.5 0.829128440367 0.841224018476\n",
      "300 0.1 0.820795817601 0.839831697055\n",
      "300 0.2 0.832245245529 0.842075256556\n",
      "300 0.3 0.821366024518 0.848384424192\n",
      "300 0.4 0.836279339322 0.843891402715\n",
      "300 0.5 0.832095945174 0.843490701001\n",
      "350 0.1 0.82612533098 0.84154235857\n",
      "350 0.2 0.827389443652 0.83978824185\n",
      "350 0.3 0.823899371069 0.841367713004\n",
      "350 0.4 0.827546296296 0.84606613455\n",
      "350 0.5 0.831042382589 0.844078386822\n",
      "400 0.1 0.823462414579 0.841896111269\n",
      "400 0.2 0.824964539007 0.841539332201\n",
      "400 0.3 0.830489192264 0.844943820225\n",
      "400 0.4 0.831486217675 0.842965886665\n",
      "400 0.5 0.831047563467 0.844119302195\n",
      "450 0.1 0.827684420393 0.838526912181\n",
      "450 0.2 0.829142857143 0.840695354802\n",
      "450 0.3 0.825757575758 0.842015371477\n",
      "450 0.4 0.827966347549 0.843634292224\n",
      "450 0.5 0.844137136272 0.846022727273\n",
      "500 0.1 0.822632659044 0.840889890172\n",
      "500 0.2 0.828341013825 0.843246247916\n",
      "500 0.3 0.818468597648 0.840979453983\n",
      "500 0.4 0.830167280975 0.842703009654\n",
      "500 0.5 0.834233721922 0.843359818388\n"
     ]
    }
   ],
   "source": [
    "for neu in neurons:\n",
    "  for dro in dropout_vals:\n",
    "    print neu, dro,\n",
    "    model = get_2_layer_model(neu, dro)\n",
    "    \n",
    "    model.fit(Xtrain, ytrain, verbose=0, callbacks=[f1stopperCallback()], nb_epoch=200)\n",
    "    \n",
    "    pred = model.predict(Xval)\n",
    "    pred[pred < .5] = 0\n",
    "    pred[pred >= .5] = 1\n",
    "    f1_val_last = f1_score(yval, pred, average='micro')\n",
    "    \n",
    "    model.load_weights('models/tmp_weights.h5')\n",
    "    \n",
    "    pred = model.predict(Xval)\n",
    "    pred[pred < .5] = 0\n",
    "    pred[pred >= .5] = 1\n",
    "    f1_val_best = f1_score(yval, pred, average='micro')\n",
    "    \n",
    "    print f1_val_last, f1_val_best\n",
    "    \n",
    "    models.append((f1_val_best, model))"
   ]
  },
  {
   "cell_type": "code",
   "execution_count": 13,
   "metadata": {
    "collapsed": false
   },
   "outputs": [
    {
     "name": "stdout",
     "output_type": "stream",
     "text": [
      "0.848384424192 0.846590909091 0.846305141894 0.84630404463 0.84606613455 0.846022727273 0.845982142857 0.845852017937 0.845094180489 0.845039018952 0.844998583168 0.844943820225 0.844910688971 0.844884488449 0.844837421563 0.844581349762 0.844457175594 0.84440706476 0.844383561644 0.844119302195 0.844078386822 0.844031531532 0.843907916901 0.843891402715 0.843803056027 0.843741169822 0.843713956171 0.843634292224 0.843490701001 0.843475799604 0.843408175014 0.843359818388 0.843353090601 0.843264614516 0.843246247916 0.842965886665 0.842896935933 0.842885657257 0.84284509418 0.842721695482 0.842706251784 0.842703009654 0.842574533296 0.842543737851 0.84246188594 0.842458100559 0.842374325476 0.842075256556 0.842017275007 0.842016333427 0.842015371477 0.841985168283 0.841927303466 0.841896111269 0.841865756542 0.841782729805 0.841748942172 0.841722595078 0.84171848502 0.841687907108 0.841575859179 0.84154235857 0.841539332201 0.841387151791 0.841367713004 0.84127874369 0.841224018476 0.841206602163 0.841037204059 0.840979453983 0.840915512857 0.840902758429 0.840889890172 0.840876743524 0.840839160839 0.840839160839 0.840832395951 0.840695354802 0.840563380282 0.840157038699 0.84007925276 0.839966601726 0.839896521989 0.839831697055 0.839831697055 0.83978824185 0.839782172542 0.839582745983 0.83949930459 0.839407744875 0.83917640512 0.839021615472 0.838546069315 0.838526912181 0.838111298482 0.837631056957 0.837592277115 0.837446808511 0.837276399308 0.835225699252\n"
     ]
    }
   ],
   "source": [
    "sorted_by_f1val = sorted(models, key=lambda t: -t[0])\n",
    "for s in sorted_by_f1val:\n",
    "  print s[0],"
   ]
  },
  {
   "cell_type": "code",
   "execution_count": 15,
   "metadata": {
    "collapsed": true
   },
   "outputs": [],
   "source": [
    "def get_best_models(n_models):\n",
    "  best_models = []\n",
    "  for s in sorted_by_f1val:\n",
    "    best_models.append(s[1])\n",
    "    if len(best_models) >= n_models:\n",
    "      break\n",
    "  return best_models\n",
    "\n",
    "def predict_ensemble(models, X):\n",
    "  pred = np.zeros((len(models), X.shape[0], 9))\n",
    "  for idx, model in enumerate(models):\n",
    "    pred[idx] = model.predict(X)    \n",
    "  result = pred.mean(axis=0)\n",
    "  assert result.shape[0] == X.shape[0]\n",
    "  assert result.shape[1] == 9\n",
    "  return result"
   ]
  },
  {
   "cell_type": "code",
   "execution_count": 16,
   "metadata": {
    "collapsed": true
   },
   "outputs": [],
   "source": [
    "f1s = []\n",
    "\n",
    "for i in range(len(models)):  \n",
    "  pred = predict_ensemble(get_best_models(i + 1), Xval)\n",
    "  pred[pred < .5] = 0\n",
    "  pred[pred > .5] = 1\n",
    "  \n",
    "  f1s.append(f1_score(yval, pred, average='micro'))"
   ]
  },
  {
   "cell_type": "code",
   "execution_count": 17,
   "metadata": {
    "collapsed": false
   },
   "outputs": [
    {
     "data": {
      "text/plain": [
       "[<matplotlib.lines.Line2D at 0x7f933db831d0>]"
      ]
     },
     "execution_count": 17,
     "metadata": {},
     "output_type": "execute_result"
    },
    {
     "data": {
      "image/png": "[encoded data removed]",
      "text/plain": [
       "<matplotlib.figure.Figure at 0x7f933e71a650>"
      ]
     },
     "metadata": {},
     "output_type": "display_data"
    }
   ],
   "source": [
    "plt.plot(np.arange(len(models)), f1s)"
   ]
  },
  {
   "cell_type": "code",
   "execution_count": 18,
   "metadata": {
    "collapsed": false
   },
   "outputs": [
    {
     "data": {
      "text/plain": [
       "5"
      ]
     },
     "execution_count": 18,
     "metadata": {},
     "output_type": "execute_result"
    }
   ],
   "source": [
    "np.argmax(f1s)"
   ]
  },
  {
   "cell_type": "code",
   "execution_count": 19,
   "metadata": {
    "collapsed": false
   },
   "outputs": [
    {
     "data": {
      "text/plain": [
       "[0.84838442419221216,\n",
       " 0.84475524475524466,\n",
       " 0.85009806668534604,\n",
       " 0.84931506849315075,\n",
       " 0.8498599439775909,\n",
       " 0.85016835016835024]"
      ]
     },
     "execution_count": 19,
     "metadata": {},
     "output_type": "execute_result"
    }
   ],
   "source": [
    "f1s[:6]"
   ]
  },
  {
   "cell_type": "code",
   "execution_count": 20,
   "metadata": {
    "collapsed": false
   },
   "outputs": [
    {
     "data": {
      "text/plain": [
       "0.85016835016835024"
      ]
     },
     "execution_count": 20,
     "metadata": {},
     "output_type": "execute_result"
    }
   ],
   "source": [
    "pred = predict_ensemble(get_best_models(6), Xval)\n",
    "pred[pred < .5] = 0\n",
    "pred[pred > .5] = 1\n",
    "\n",
    "f1_score(yval, pred, average='micro')"
   ]
  },
  {
   "cell_type": "markdown",
   "metadata": {},
   "source": [
    "# Test data time!"
   ]
  },
  {
   "cell_type": "code",
   "execution_count": 21,
   "metadata": {
    "collapsed": false
   },
   "outputs": [
    {
     "data": {
      "text/html": [
       "<div>\n",
       "<table border=\"1\" class=\"dataframe\">\n",
       "  <thead>\n",
       "    <tr style=\"text-align: right;\">\n",
       "      <th></th>\n",
       "      <th>business_id</th>\n",
       "      <th>labels</th>\n",
       "    </tr>\n",
       "  </thead>\n",
       "  <tbody>\n",
       "    <tr>\n",
       "      <th>0</th>\n",
       "      <td>003sg</td>\n",
       "      <td>1 2 3 5 6 8</td>\n",
       "    </tr>\n",
       "    <tr>\n",
       "      <th>1</th>\n",
       "      <td>00er5</td>\n",
       "      <td>1 2 3 5 6 8</td>\n",
       "    </tr>\n",
       "    <tr>\n",
       "      <th>2</th>\n",
       "      <td>00kad</td>\n",
       "      <td>1 2 3 5 6 8</td>\n",
       "    </tr>\n",
       "    <tr>\n",
       "      <th>3</th>\n",
       "      <td>00mc6</td>\n",
       "      <td>1 2 5 6</td>\n",
       "    </tr>\n",
       "    <tr>\n",
       "      <th>4</th>\n",
       "      <td>00q7x</td>\n",
       "      <td>1 2 4 5 6 7</td>\n",
       "    </tr>\n",
       "  </tbody>\n",
       "</table>\n",
       "</div>"
      ],
      "text/plain": [
       "  business_id       labels\n",
       "0       003sg  1 2 3 5 6 8\n",
       "1       00er5  1 2 3 5 6 8\n",
       "2       00kad  1 2 3 5 6 8\n",
       "3       00mc6      1 2 5 6\n",
       "4       00q7x  1 2 4 5 6 7"
      ]
     },
     "execution_count": 21,
     "metadata": {},
     "output_type": "execute_result"
    }
   ],
   "source": [
    "pred = predict_ensemble(get_best_models(6), Xtest)\n",
    "\n",
    "pred[pred < .5] = 0\n",
    "pred[pred > .5] = 1\n",
    "labels = mlb.inverse_transform(pred)\n",
    "labels_str = [' '.join(map(str, l)) for l in labels]\n",
    "results = pd.DataFrame({'business_id': dataTest.index, 'labels': pd.Series(labels_str)})\n",
    "results.head()"
   ]
  },
  {
   "cell_type": "code",
   "execution_count": 22,
   "metadata": {
    "collapsed": true
   },
   "outputs": [],
   "source": [
    "results.to_csv('results/third_ensemble_val8501.csv', index=False)"
   ]
  },
  {
   "cell_type": "markdown",
   "metadata": {},
   "source": [
    "# RESULT\n",
    "\n",
    "LB SCORE: 0.81837"
   ]
  },
  {
   "cell_type": "code",
   "execution_count": 25,
   "metadata": {
    "collapsed": false
   },
   "outputs": [
    {
     "data": {
      "text/html": [
       "<div>\n",
       "<table border=\"1\" class=\"dataframe\">\n",
       "  <thead>\n",
       "    <tr style=\"text-align: right;\">\n",
       "      <th></th>\n",
       "      <th>business_id</th>\n",
       "      <th>labels</th>\n",
       "    </tr>\n",
       "  </thead>\n",
       "  <tbody>\n",
       "    <tr>\n",
       "      <th>0</th>\n",
       "      <td>003sg</td>\n",
       "      <td>1 2 3 5 6 8</td>\n",
       "    </tr>\n",
       "    <tr>\n",
       "      <th>1</th>\n",
       "      <td>00er5</td>\n",
       "      <td>1 2 3 5 6 8</td>\n",
       "    </tr>\n",
       "    <tr>\n",
       "      <th>2</th>\n",
       "      <td>00kad</td>\n",
       "      <td>1 2 3 5 6 8</td>\n",
       "    </tr>\n",
       "    <tr>\n",
       "      <th>3</th>\n",
       "      <td>00mc6</td>\n",
       "      <td>1 2 5 6</td>\n",
       "    </tr>\n",
       "    <tr>\n",
       "      <th>4</th>\n",
       "      <td>00q7x</td>\n",
       "      <td>1 2 3 4 5 6 7</td>\n",
       "    </tr>\n",
       "  </tbody>\n",
       "</table>\n",
       "</div>"
      ],
      "text/plain": [
       "  business_id         labels\n",
       "0       003sg    1 2 3 5 6 8\n",
       "1       00er5    1 2 3 5 6 8\n",
       "2       00kad    1 2 3 5 6 8\n",
       "3       00mc6        1 2 5 6\n",
       "4       00q7x  1 2 3 4 5 6 7"
      ]
     },
     "execution_count": 25,
     "metadata": {},
     "output_type": "execute_result"
    }
   ],
   "source": [
    "pred = predict_ensemble(get_best_models(5), Xtest)\n",
    "\n",
    "pred[pred < .5] = 0\n",
    "pred[pred > .5] = 1\n",
    "labels = mlb.inverse_transform(pred)\n",
    "labels_str = [' '.join(map(str, l)) for l in labels]\n",
    "results = pd.DataFrame({'business_id': dataTest.index, 'labels': pd.Series(labels_str)})\n",
    "results.head()"
   ]
  },
  {
   "cell_type": "code",
   "execution_count": 26,
   "metadata": {
    "collapsed": true
   },
   "outputs": [],
   "source": [
    "results.to_csv('results/third_ensemble_5models.csv', index=False)"
   ]
  }
 ],
 "metadata": {
  "kernelspec": {
   "display_name": "Python 2",
   "language": "python",
   "name": "python2"
  },
  "language_info": {
   "codemirror_mode": {
    "name": "ipython",
    "version": 2
   },
   "file_extension": ".py",
   "mimetype": "text/x-python",
   "name": "python",
   "nbconvert_exporter": "python",
   "pygments_lexer": "ipython2",
   "version": "2.7.10"
  }
 },
 "nbformat": 4,
 "nbformat_minor": 0
}
