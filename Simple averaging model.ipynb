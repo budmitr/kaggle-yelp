{
 "cells": [
  {
   "cell_type": "code",
   "execution_count": 1,
   "metadata": {
    "collapsed": true
   },
   "outputs": [],
   "source": [
    "import numpy as np\n",
    "import pandas as pd\n",
    "\n",
    "from sklearn import svm\n",
    "from sklearn.multiclass import OneVsRestClassifier\n",
    "from sklearn.cross_validation import train_test_split\n",
    "from sklearn.metrics import f1_score\n",
    "from sklearn.externals import joblib"
   ]
  },
  {
   "cell_type": "markdown",
   "metadata": {},
   "source": [
    "# Combine metadata with embeddings and save to hdf5"
   ]
  },
  {
   "cell_type": "code",
   "execution_count": 2,
   "metadata": {
    "collapsed": true
   },
   "outputs": [],
   "source": [
    "categories = [\n",
    "  'good_for_lunch', \n",
    "  'good_for_dinner', \n",
    "  'takes_reservations', \n",
    "  'outdoor_seating',\n",
    "  'restaurant_is_expensive',\n",
    "  'has_alcohol',\n",
    "  'has_table_service',\n",
    "  'ambience_is_classy',\n",
    "  'good_for_kids'\n",
    "]\n",
    "\n",
    "vgg_cols = ['f' + str(i) for i in range(4096)]"
   ]
  },
  {
   "cell_type": "markdown",
   "metadata": {},
   "source": [
    "# Test data preparations"
   ]
  },
  {
   "cell_type": "code",
   "execution_count": 3,
   "metadata": {
    "collapsed": false
   },
   "outputs": [
    {
     "data": {
      "text/html": [
       "<div>\n",
       "<table border=\"1\" class=\"dataframe\">\n",
       "  <thead>\n",
       "    <tr style=\"text-align: right;\">\n",
       "      <th></th>\n",
       "      <th>f0</th>\n",
       "      <th>f1</th>\n",
       "      <th>f2</th>\n",
       "      <th>f3</th>\n",
       "      <th>f4</th>\n",
       "      <th>f5</th>\n",
       "      <th>f6</th>\n",
       "      <th>f7</th>\n",
       "      <th>f8</th>\n",
       "      <th>f9</th>\n",
       "      <th>...</th>\n",
       "      <th>f4086</th>\n",
       "      <th>f4087</th>\n",
       "      <th>f4088</th>\n",
       "      <th>f4089</th>\n",
       "      <th>f4090</th>\n",
       "      <th>f4091</th>\n",
       "      <th>f4092</th>\n",
       "      <th>f4093</th>\n",
       "      <th>f4094</th>\n",
       "      <th>f4095</th>\n",
       "    </tr>\n",
       "    <tr>\n",
       "      <th>photo_id</th>\n",
       "      <th></th>\n",
       "      <th></th>\n",
       "      <th></th>\n",
       "      <th></th>\n",
       "      <th></th>\n",
       "      <th></th>\n",
       "      <th></th>\n",
       "      <th></th>\n",
       "      <th></th>\n",
       "      <th></th>\n",
       "      <th></th>\n",
       "      <th></th>\n",
       "      <th></th>\n",
       "      <th></th>\n",
       "      <th></th>\n",
       "      <th></th>\n",
       "      <th></th>\n",
       "      <th></th>\n",
       "      <th></th>\n",
       "      <th></th>\n",
       "      <th></th>\n",
       "    </tr>\n",
       "  </thead>\n",
       "  <tbody>\n",
       "    <tr>\n",
       "      <th>317818</th>\n",
       "      <td>0.000000</td>\n",
       "      <td>1.282932</td>\n",
       "      <td>0.000000</td>\n",
       "      <td>0</td>\n",
       "      <td>0.000000</td>\n",
       "      <td>0</td>\n",
       "      <td>0.851275</td>\n",
       "      <td>0</td>\n",
       "      <td>0.000000</td>\n",
       "      <td>0.000000</td>\n",
       "      <td>...</td>\n",
       "      <td>0</td>\n",
       "      <td>0.000000</td>\n",
       "      <td>0</td>\n",
       "      <td>0.000000</td>\n",
       "      <td>0.751438</td>\n",
       "      <td>0.000000</td>\n",
       "      <td>0.000000</td>\n",
       "      <td>0.000000</td>\n",
       "      <td>0</td>\n",
       "      <td>0</td>\n",
       "    </tr>\n",
       "    <tr>\n",
       "      <th>30679</th>\n",
       "      <td>0.000000</td>\n",
       "      <td>0.000000</td>\n",
       "      <td>0.000000</td>\n",
       "      <td>0</td>\n",
       "      <td>0.000000</td>\n",
       "      <td>0</td>\n",
       "      <td>0.000000</td>\n",
       "      <td>0</td>\n",
       "      <td>1.220651</td>\n",
       "      <td>0.000000</td>\n",
       "      <td>...</td>\n",
       "      <td>0</td>\n",
       "      <td>0.000000</td>\n",
       "      <td>0</td>\n",
       "      <td>0.000000</td>\n",
       "      <td>0.000000</td>\n",
       "      <td>1.430037</td>\n",
       "      <td>0.000000</td>\n",
       "      <td>1.335587</td>\n",
       "      <td>0</td>\n",
       "      <td>0</td>\n",
       "    </tr>\n",
       "    <tr>\n",
       "      <th>455084</th>\n",
       "      <td>0.000000</td>\n",
       "      <td>0.000000</td>\n",
       "      <td>0.242226</td>\n",
       "      <td>0</td>\n",
       "      <td>5.327094</td>\n",
       "      <td>0</td>\n",
       "      <td>0.699824</td>\n",
       "      <td>0</td>\n",
       "      <td>0.000000</td>\n",
       "      <td>0.000000</td>\n",
       "      <td>...</td>\n",
       "      <td>0</td>\n",
       "      <td>1.366249</td>\n",
       "      <td>0</td>\n",
       "      <td>0.000000</td>\n",
       "      <td>0.000000</td>\n",
       "      <td>0.000000</td>\n",
       "      <td>0.000000</td>\n",
       "      <td>0.627894</td>\n",
       "      <td>0</td>\n",
       "      <td>0</td>\n",
       "    </tr>\n",
       "    <tr>\n",
       "      <th>371381</th>\n",
       "      <td>0.000000</td>\n",
       "      <td>0.000000</td>\n",
       "      <td>0.000000</td>\n",
       "      <td>0</td>\n",
       "      <td>0.000000</td>\n",
       "      <td>0</td>\n",
       "      <td>0.000000</td>\n",
       "      <td>0</td>\n",
       "      <td>0.037849</td>\n",
       "      <td>0.000000</td>\n",
       "      <td>...</td>\n",
       "      <td>0</td>\n",
       "      <td>0.000000</td>\n",
       "      <td>0</td>\n",
       "      <td>0.711921</td>\n",
       "      <td>3.742042</td>\n",
       "      <td>0.000000</td>\n",
       "      <td>0.000000</td>\n",
       "      <td>0.000000</td>\n",
       "      <td>0</td>\n",
       "      <td>0</td>\n",
       "    </tr>\n",
       "    <tr>\n",
       "      <th>86224</th>\n",
       "      <td>1.074553</td>\n",
       "      <td>0.000000</td>\n",
       "      <td>1.790671</td>\n",
       "      <td>0</td>\n",
       "      <td>0.000000</td>\n",
       "      <td>0</td>\n",
       "      <td>0.726157</td>\n",
       "      <td>0</td>\n",
       "      <td>0.141989</td>\n",
       "      <td>0.818177</td>\n",
       "      <td>...</td>\n",
       "      <td>0</td>\n",
       "      <td>0.000000</td>\n",
       "      <td>0</td>\n",
       "      <td>0.000000</td>\n",
       "      <td>0.000000</td>\n",
       "      <td>6.045853</td>\n",
       "      <td>1.137192</td>\n",
       "      <td>0.292165</td>\n",
       "      <td>0</td>\n",
       "      <td>0</td>\n",
       "    </tr>\n",
       "  </tbody>\n",
       "</table>\n",
       "<p>5 rows × 4096 columns</p>\n",
       "</div>"
      ],
      "text/plain": [
       "                f0        f1        f2  f3        f4  f5        f6  f7  \\\n",
       "photo_id                                                                 \n",
       "317818    0.000000  1.282932  0.000000   0  0.000000   0  0.851275   0   \n",
       "30679     0.000000  0.000000  0.000000   0  0.000000   0  0.000000   0   \n",
       "455084    0.000000  0.000000  0.242226   0  5.327094   0  0.699824   0   \n",
       "371381    0.000000  0.000000  0.000000   0  0.000000   0  0.000000   0   \n",
       "86224     1.074553  0.000000  1.790671   0  0.000000   0  0.726157   0   \n",
       "\n",
       "                f8        f9  ...    f4086     f4087  f4088     f4089  \\\n",
       "photo_id                      ...                                       \n",
       "317818    0.000000  0.000000  ...        0  0.000000      0  0.000000   \n",
       "30679     1.220651  0.000000  ...        0  0.000000      0  0.000000   \n",
       "455084    0.000000  0.000000  ...        0  1.366249      0  0.000000   \n",
       "371381    0.037849  0.000000  ...        0  0.000000      0  0.711921   \n",
       "86224     0.141989  0.818177  ...        0  0.000000      0  0.000000   \n",
       "\n",
       "             f4090     f4091     f4092     f4093  f4094  f4095  \n",
       "photo_id                                                        \n",
       "317818    0.751438  0.000000  0.000000  0.000000      0      0  \n",
       "30679     0.000000  1.430037  0.000000  1.335587      0      0  \n",
       "455084    0.000000  0.000000  0.000000  0.627894      0      0  \n",
       "371381    3.742042  0.000000  0.000000  0.000000      0      0  \n",
       "86224     0.000000  6.045853  1.137192  0.292165      0      0  \n",
       "\n",
       "[5 rows x 4096 columns]"
      ]
     },
     "execution_count": 3,
     "metadata": {},
     "output_type": "execute_result"
    }
   ],
   "source": [
    "test_photo_biz = pd.read_csv('data/test_photo_to_biz.csv')\n",
    "ids = test_photo_biz.photo_id.drop_duplicates()\n",
    "\n",
    "testPhotos = pd.DataFrame(np.load('data/VGG_4096_Xtest.npy'), columns=vgg_cols)\n",
    "testPhotos.set_index(ids, inplace=True)\n",
    "testPhotos.head()"
   ]
  },
  {
   "cell_type": "markdown",
   "metadata": {},
   "source": [
    "## Part 1"
   ]
  },
  {
   "cell_type": "code",
   "execution_count": 4,
   "metadata": {
    "collapsed": false
   },
   "outputs": [],
   "source": [
    "test_photo_biz_sorted = test_photo_biz.sort_values(['business_id', 'photo_id'], ascending=[True, True])"
   ]
  },
  {
   "cell_type": "code",
   "execution_count": 5,
   "metadata": {
    "collapsed": false
   },
   "outputs": [],
   "source": [
    "test_photo_biz_sorted_5vbik = test_photo_biz_sorted[:200523]\n",
    "test_photo_biz_sorted = test_photo_biz_sorted[200523:]"
   ]
  },
  {
   "cell_type": "code",
   "execution_count": 6,
   "metadata": {
    "collapsed": false
   },
   "outputs": [
    {
     "data": {
      "text/html": [
       "<div>\n",
       "<table border=\"1\" class=\"dataframe\">\n",
       "  <thead>\n",
       "    <tr style=\"text-align: right;\">\n",
       "      <th></th>\n",
       "      <th>photo_id</th>\n",
       "      <th>business_id</th>\n",
       "    </tr>\n",
       "  </thead>\n",
       "  <tbody>\n",
       "    <tr>\n",
       "      <th>200509</th>\n",
       "      <td>427592</td>\n",
       "      <td>5vbik</td>\n",
       "    </tr>\n",
       "    <tr>\n",
       "      <th>200501</th>\n",
       "      <td>432550</td>\n",
       "      <td>5vbik</td>\n",
       "    </tr>\n",
       "    <tr>\n",
       "      <th>200499</th>\n",
       "      <td>434919</td>\n",
       "      <td>5vbik</td>\n",
       "    </tr>\n",
       "    <tr>\n",
       "      <th>200494</th>\n",
       "      <td>463649</td>\n",
       "      <td>5vbik</td>\n",
       "    </tr>\n",
       "    <tr>\n",
       "      <th>200485</th>\n",
       "      <td>467332</td>\n",
       "      <td>5vbik</td>\n",
       "    </tr>\n",
       "  </tbody>\n",
       "</table>\n",
       "</div>"
      ],
      "text/plain": [
       "        photo_id business_id\n",
       "200509    427592       5vbik\n",
       "200501    432550       5vbik\n",
       "200499    434919       5vbik\n",
       "200494    463649       5vbik\n",
       "200485    467332       5vbik"
      ]
     },
     "execution_count": 6,
     "metadata": {},
     "output_type": "execute_result"
    }
   ],
   "source": [
    "test_photo_biz_sorted_5vbik.tail()"
   ]
  },
  {
   "cell_type": "code",
   "execution_count": 8,
   "metadata": {
    "collapsed": true
   },
   "outputs": [],
   "source": [
    "Xtestpart = test_photo_biz_sorted_5vbik.join(testPhotos, on='photo_id')\n",
    "Xtestpart.isnull().sum().sum()"
   ]
  },
  {
   "cell_type": "code",
   "execution_count": 10,
   "metadata": {
    "collapsed": true
   },
   "outputs": [],
   "source": [
    "Xtestpart.to_hdf('data/Xtest_dataframe_part1.hdf5', 'Xtest')"
   ]
  },
  {
   "cell_type": "markdown",
   "metadata": {},
   "source": [
    "## Part 2"
   ]
  },
  {
   "cell_type": "code",
   "execution_count": 7,
   "metadata": {
    "collapsed": false
   },
   "outputs": [],
   "source": [
    "test_photo_biz_sorted_bv1ga = test_photo_biz_sorted[:200029]\n",
    "test_photo_biz_sorted = test_photo_biz_sorted[200029:]"
   ]
  },
  {
   "cell_type": "code",
   "execution_count": 8,
   "metadata": {
    "collapsed": false
   },
   "outputs": [
    {
     "data": {
      "text/html": [
       "<div>\n",
       "<table border=\"1\" class=\"dataframe\">\n",
       "  <thead>\n",
       "    <tr style=\"text-align: right;\">\n",
       "      <th></th>\n",
       "      <th>photo_id</th>\n",
       "      <th>business_id</th>\n",
       "    </tr>\n",
       "  </thead>\n",
       "  <tbody>\n",
       "    <tr>\n",
       "      <th>400513</th>\n",
       "      <td>428851</td>\n",
       "      <td>bv1ga</td>\n",
       "    </tr>\n",
       "    <tr>\n",
       "      <th>400547</th>\n",
       "      <td>439452</td>\n",
       "      <td>bv1ga</td>\n",
       "    </tr>\n",
       "    <tr>\n",
       "      <th>400484</th>\n",
       "      <td>449669</td>\n",
       "      <td>bv1ga</td>\n",
       "    </tr>\n",
       "    <tr>\n",
       "      <th>400474</th>\n",
       "      <td>464365</td>\n",
       "      <td>bv1ga</td>\n",
       "    </tr>\n",
       "    <tr>\n",
       "      <th>400522</th>\n",
       "      <td>469292</td>\n",
       "      <td>bv1ga</td>\n",
       "    </tr>\n",
       "  </tbody>\n",
       "</table>\n",
       "</div>"
      ],
      "text/plain": [
       "        photo_id business_id\n",
       "400513    428851       bv1ga\n",
       "400547    439452       bv1ga\n",
       "400484    449669       bv1ga\n",
       "400474    464365       bv1ga\n",
       "400522    469292       bv1ga"
      ]
     },
     "execution_count": 8,
     "metadata": {},
     "output_type": "execute_result"
    }
   ],
   "source": [
    "test_photo_biz_sorted_bv1ga.tail()"
   ]
  },
  {
   "cell_type": "code",
   "execution_count": 9,
   "metadata": {
    "collapsed": false
   },
   "outputs": [
    {
     "data": {
      "text/plain": [
       "0"
      ]
     },
     "execution_count": 9,
     "metadata": {},
     "output_type": "execute_result"
    }
   ],
   "source": [
    "Xtestpart = test_photo_biz_sorted_bv1ga.join(testPhotos, on='photo_id')\n",
    "Xtestpart.isnull().sum().sum()"
   ]
  },
  {
   "cell_type": "code",
   "execution_count": 10,
   "metadata": {
    "collapsed": true
   },
   "outputs": [],
   "source": [
    "Xtestpart.to_hdf('data/Xtest_dataframe_part2.hdf5', 'Xtest')"
   ]
  },
  {
   "cell_type": "markdown",
   "metadata": {},
   "source": [
    "## Part 3"
   ]
  },
  {
   "cell_type": "code",
   "execution_count": 9,
   "metadata": {
    "collapsed": false
   },
   "outputs": [],
   "source": [
    "test_photo_biz_sorted_hxji0 = test_photo_biz_sorted[:200051]\n",
    "test_photo_biz_sorted = test_photo_biz_sorted[200051:]"
   ]
  },
  {
   "cell_type": "code",
   "execution_count": 10,
   "metadata": {
    "collapsed": false,
    "scrolled": true
   },
   "outputs": [
    {
     "data": {
      "text/html": [
       "<div>\n",
       "<table border=\"1\" class=\"dataframe\">\n",
       "  <thead>\n",
       "    <tr style=\"text-align: right;\">\n",
       "      <th></th>\n",
       "      <th>photo_id</th>\n",
       "      <th>business_id</th>\n",
       "    </tr>\n",
       "  </thead>\n",
       "  <tbody>\n",
       "    <tr>\n",
       "      <th>600546</th>\n",
       "      <td>446612</td>\n",
       "      <td>hxji0</td>\n",
       "    </tr>\n",
       "    <tr>\n",
       "      <th>600594</th>\n",
       "      <td>447562</td>\n",
       "      <td>hxji0</td>\n",
       "    </tr>\n",
       "    <tr>\n",
       "      <th>600599</th>\n",
       "      <td>459632</td>\n",
       "      <td>hxji0</td>\n",
       "    </tr>\n",
       "    <tr>\n",
       "      <th>600552</th>\n",
       "      <td>461540</td>\n",
       "      <td>hxji0</td>\n",
       "    </tr>\n",
       "    <tr>\n",
       "      <th>600554</th>\n",
       "      <td>462109</td>\n",
       "      <td>hxji0</td>\n",
       "    </tr>\n",
       "  </tbody>\n",
       "</table>\n",
       "</div>"
      ],
      "text/plain": [
       "        photo_id business_id\n",
       "600546    446612       hxji0\n",
       "600594    447562       hxji0\n",
       "600599    459632       hxji0\n",
       "600552    461540       hxji0\n",
       "600554    462109       hxji0"
      ]
     },
     "execution_count": 10,
     "metadata": {},
     "output_type": "execute_result"
    }
   ],
   "source": [
    "test_photo_biz_sorted_hxji0.tail()"
   ]
  },
  {
   "cell_type": "code",
   "execution_count": 11,
   "metadata": {
    "collapsed": false
   },
   "outputs": [
    {
     "data": {
      "text/plain": [
       "0"
      ]
     },
     "execution_count": 11,
     "metadata": {},
     "output_type": "execute_result"
    }
   ],
   "source": [
    "Xtestpart = test_photo_biz_sorted_hxji0.join(testPhotos, on='photo_id')\n",
    "Xtestpart.isnull().sum().sum()"
   ]
  },
  {
   "cell_type": "code",
   "execution_count": 12,
   "metadata": {
    "collapsed": true
   },
   "outputs": [],
   "source": [
    "Xtestpart.to_hdf('data/Xtest_dataframe_part3.hdf5', 'Xtest')"
   ]
  },
  {
   "cell_type": "markdown",
   "metadata": {},
   "source": [
    "## Part 4"
   ]
  },
  {
   "cell_type": "code",
   "execution_count": 11,
   "metadata": {
    "collapsed": false
   },
   "outputs": [],
   "source": [
    "test_photo_biz_sorted_o7cxi = test_photo_biz_sorted[:200009]\n",
    "test_photo_biz_sorted = test_photo_biz_sorted[200009:]"
   ]
  },
  {
   "cell_type": "code",
   "execution_count": 12,
   "metadata": {
    "collapsed": false
   },
   "outputs": [
    {
     "data": {
      "text/html": [
       "<div>\n",
       "<table border=\"1\" class=\"dataframe\">\n",
       "  <thead>\n",
       "    <tr style=\"text-align: right;\">\n",
       "      <th></th>\n",
       "      <th>photo_id</th>\n",
       "      <th>business_id</th>\n",
       "    </tr>\n",
       "  </thead>\n",
       "  <tbody>\n",
       "    <tr>\n",
       "      <th>800565</th>\n",
       "      <td>444557</td>\n",
       "      <td>o7cxi</td>\n",
       "    </tr>\n",
       "    <tr>\n",
       "      <th>800602</th>\n",
       "      <td>446330</td>\n",
       "      <td>o7cxi</td>\n",
       "    </tr>\n",
       "    <tr>\n",
       "      <th>800545</th>\n",
       "      <td>457279</td>\n",
       "      <td>o7cxi</td>\n",
       "    </tr>\n",
       "    <tr>\n",
       "      <th>800494</th>\n",
       "      <td>457605</td>\n",
       "      <td>o7cxi</td>\n",
       "    </tr>\n",
       "    <tr>\n",
       "      <th>800586</th>\n",
       "      <td>458911</td>\n",
       "      <td>o7cxi</td>\n",
       "    </tr>\n",
       "  </tbody>\n",
       "</table>\n",
       "</div>"
      ],
      "text/plain": [
       "        photo_id business_id\n",
       "800565    444557       o7cxi\n",
       "800602    446330       o7cxi\n",
       "800545    457279       o7cxi\n",
       "800494    457605       o7cxi\n",
       "800586    458911       o7cxi"
      ]
     },
     "execution_count": 12,
     "metadata": {},
     "output_type": "execute_result"
    }
   ],
   "source": [
    "test_photo_biz_sorted_o7cxi.tail()"
   ]
  },
  {
   "cell_type": "code",
   "execution_count": 13,
   "metadata": {
    "collapsed": false
   },
   "outputs": [
    {
     "data": {
      "text/plain": [
       "0"
      ]
     },
     "execution_count": 13,
     "metadata": {},
     "output_type": "execute_result"
    }
   ],
   "source": [
    "Xtestpart = test_photo_biz_sorted_o7cxi.join(testPhotos, on='photo_id')\n",
    "Xtestpart.isnull().sum().sum()"
   ]
  },
  {
   "cell_type": "code",
   "execution_count": 14,
   "metadata": {
    "collapsed": true
   },
   "outputs": [],
   "source": [
    "Xtestpart.to_hdf('data/Xtest_dataframe_part4.hdf5', 'Xtest')"
   ]
  },
  {
   "cell_type": "markdown",
   "metadata": {},
   "source": [
    "## Part 5"
   ]
  },
  {
   "cell_type": "code",
   "execution_count": 13,
   "metadata": {
    "collapsed": false
   },
   "outputs": [],
   "source": [
    "test_photo_biz_sorted_ug8r3 = test_photo_biz_sorted[:200027]\n",
    "test_photo_biz_sorted = test_photo_biz_sorted[200027:]"
   ]
  },
  {
   "cell_type": "code",
   "execution_count": 14,
   "metadata": {
    "collapsed": false,
    "scrolled": true
   },
   "outputs": [
    {
     "data": {
      "text/html": [
       "<div>\n",
       "<table border=\"1\" class=\"dataframe\">\n",
       "  <thead>\n",
       "    <tr style=\"text-align: right;\">\n",
       "      <th></th>\n",
       "      <th>photo_id</th>\n",
       "      <th>business_id</th>\n",
       "    </tr>\n",
       "  </thead>\n",
       "  <tbody>\n",
       "    <tr>\n",
       "      <th>1000558</th>\n",
       "      <td>467653</td>\n",
       "      <td>ug8r3</td>\n",
       "    </tr>\n",
       "    <tr>\n",
       "      <th>1000581</th>\n",
       "      <td>469187</td>\n",
       "      <td>ug8r3</td>\n",
       "    </tr>\n",
       "    <tr>\n",
       "      <th>1000351</th>\n",
       "      <td>470293</td>\n",
       "      <td>ug8r3</td>\n",
       "    </tr>\n",
       "    <tr>\n",
       "      <th>1000233</th>\n",
       "      <td>470902</td>\n",
       "      <td>ug8r3</td>\n",
       "    </tr>\n",
       "    <tr>\n",
       "      <th>1000137</th>\n",
       "      <td>471315</td>\n",
       "      <td>ug8r3</td>\n",
       "    </tr>\n",
       "  </tbody>\n",
       "</table>\n",
       "</div>"
      ],
      "text/plain": [
       "         photo_id business_id\n",
       "1000558    467653       ug8r3\n",
       "1000581    469187       ug8r3\n",
       "1000351    470293       ug8r3\n",
       "1000233    470902       ug8r3\n",
       "1000137    471315       ug8r3"
      ]
     },
     "execution_count": 14,
     "metadata": {},
     "output_type": "execute_result"
    }
   ],
   "source": [
    "test_photo_biz_sorted_ug8r3.tail()"
   ]
  },
  {
   "cell_type": "code",
   "execution_count": 15,
   "metadata": {
    "collapsed": false
   },
   "outputs": [
    {
     "data": {
      "text/plain": [
       "0"
      ]
     },
     "execution_count": 15,
     "metadata": {},
     "output_type": "execute_result"
    }
   ],
   "source": [
    "Xtestpart = test_photo_biz_sorted_ug8r3.join(testPhotos, on='photo_id')\n",
    "Xtestpart.isnull().sum().sum()"
   ]
  },
  {
   "cell_type": "code",
   "execution_count": 16,
   "metadata": {
    "collapsed": true
   },
   "outputs": [],
   "source": [
    "Xtestpart.to_hdf('data/Xtest_dataframe_part5.hdf5', 'Xtest')"
   ]
  },
  {
   "cell_type": "markdown",
   "metadata": {},
   "source": [
    "## Part 6"
   ]
  },
  {
   "cell_type": "code",
   "execution_count": 15,
   "metadata": {
    "collapsed": false
   },
   "outputs": [
    {
     "data": {
      "text/html": [
       "<div>\n",
       "<table border=\"1\" class=\"dataframe\">\n",
       "  <thead>\n",
       "    <tr style=\"text-align: right;\">\n",
       "      <th></th>\n",
       "      <th>photo_id</th>\n",
       "      <th>business_id</th>\n",
       "    </tr>\n",
       "  </thead>\n",
       "  <tbody>\n",
       "    <tr>\n",
       "      <th>1000670</th>\n",
       "      <td>15474</td>\n",
       "      <td>ugcgl</td>\n",
       "    </tr>\n",
       "    <tr>\n",
       "      <th>1000659</th>\n",
       "      <td>25444</td>\n",
       "      <td>ugcgl</td>\n",
       "    </tr>\n",
       "    <tr>\n",
       "      <th>1000669</th>\n",
       "      <td>46443</td>\n",
       "      <td>ugcgl</td>\n",
       "    </tr>\n",
       "    <tr>\n",
       "      <th>1000710</th>\n",
       "      <td>49444</td>\n",
       "      <td>ugcgl</td>\n",
       "    </tr>\n",
       "    <tr>\n",
       "      <th>1000707</th>\n",
       "      <td>50532</td>\n",
       "      <td>ugcgl</td>\n",
       "    </tr>\n",
       "  </tbody>\n",
       "</table>\n",
       "</div>"
      ],
      "text/plain": [
       "         photo_id business_id\n",
       "1000670     15474       ugcgl\n",
       "1000659     25444       ugcgl\n",
       "1000669     46443       ugcgl\n",
       "1000710     49444       ugcgl\n",
       "1000707     50532       ugcgl"
      ]
     },
     "execution_count": 15,
     "metadata": {},
     "output_type": "execute_result"
    }
   ],
   "source": [
    "test_photo_biz_sorted.head()"
   ]
  },
  {
   "cell_type": "code",
   "execution_count": 16,
   "metadata": {
    "collapsed": false
   },
   "outputs": [
    {
     "data": {
      "text/plain": [
       "0"
      ]
     },
     "execution_count": 16,
     "metadata": {},
     "output_type": "execute_result"
    }
   ],
   "source": [
    "Xtestpart = test_photo_biz_sorted.join(testPhotos, on='photo_id')\n",
    "Xtestpart.isnull().sum().sum()"
   ]
  },
  {
   "cell_type": "code",
   "execution_count": 17,
   "metadata": {
    "collapsed": true
   },
   "outputs": [],
   "source": [
    "Xtestpart.to_hdf('data/Xtest_dataframe_part6.hdf5', 'Xtest')"
   ]
  },
  {
   "cell_type": "markdown",
   "metadata": {},
   "source": [
    "# Train data preparations"
   ]
  },
  {
   "cell_type": "code",
   "execution_count": 3,
   "metadata": {
    "collapsed": true
   },
   "outputs": [],
   "source": [
    "# train_biz_labels = pd.read_csv('data/train.csv')\n",
    "# train_photo_biz = pd.read_csv('data/train_photo_to_biz_ids.csv')\n",
    "# train_biz_labels.dropna(inplace=True)\n",
    "# train = pd.merge(train_photo_biz, train_biz_labels, on='business_id')\n",
    "\n",
    "# for i in range(len(categories)):\n",
    "#   train[categories[i]] = train['labels'].str.contains(str(i)).astype(int)\n",
    "  \n",
    "# Xtrain = pd.concat([train, pd.DataFrame(np.load('data/VGG_4096_Xtrain_full.npy'), columns=vgg_cols)], axis=1, join='inner')\n",
    "# Xtrain.to_hdf('data/Xtrain_full_dataframe.ndf5', 'Xtrain')"
   ]
  },
  {
   "cell_type": "code",
   "execution_count": 3,
   "metadata": {
    "collapsed": true
   },
   "outputs": [],
   "source": [
    "Xtrain = pd.read_hdf('data/ta/Xtrain_full_dataframe.ndf5', 'Xtrain')"
   ]
  },
  {
   "cell_type": "code",
   "execution_count": 4,
   "metadata": {
    "collapsed": false
   },
   "outputs": [
    {
     "data": {
      "text/html": [
       "<div>\n",
       "<table border=\"1\" class=\"dataframe\">\n",
       "  <thead>\n",
       "    <tr style=\"text-align: right;\">\n",
       "      <th></th>\n",
       "      <th>photo_id</th>\n",
       "      <th>business_id</th>\n",
       "      <th>labels</th>\n",
       "      <th>good_for_lunch</th>\n",
       "      <th>good_for_dinner</th>\n",
       "      <th>takes_reservations</th>\n",
       "      <th>outdoor_seating</th>\n",
       "      <th>restaurant_is_expensive</th>\n",
       "      <th>has_alcohol</th>\n",
       "      <th>has_table_service</th>\n",
       "      <th>...</th>\n",
       "      <th>f4086</th>\n",
       "      <th>f4087</th>\n",
       "      <th>f4088</th>\n",
       "      <th>f4089</th>\n",
       "      <th>f4090</th>\n",
       "      <th>f4091</th>\n",
       "      <th>f4092</th>\n",
       "      <th>f4093</th>\n",
       "      <th>f4094</th>\n",
       "      <th>f4095</th>\n",
       "    </tr>\n",
       "  </thead>\n",
       "  <tbody>\n",
       "    <tr>\n",
       "      <th>0</th>\n",
       "      <td>204149</td>\n",
       "      <td>3034</td>\n",
       "      <td>3 8</td>\n",
       "      <td>0</td>\n",
       "      <td>0</td>\n",
       "      <td>0</td>\n",
       "      <td>1</td>\n",
       "      <td>0</td>\n",
       "      <td>0</td>\n",
       "      <td>0</td>\n",
       "      <td>...</td>\n",
       "      <td>0.00000</td>\n",
       "      <td>0.000000</td>\n",
       "      <td>0</td>\n",
       "      <td>0.000000</td>\n",
       "      <td>0</td>\n",
       "      <td>0.118222</td>\n",
       "      <td>0.000000</td>\n",
       "      <td>0.058655</td>\n",
       "      <td>0.000000</td>\n",
       "      <td>0</td>\n",
       "    </tr>\n",
       "    <tr>\n",
       "      <th>1</th>\n",
       "      <td>48723</td>\n",
       "      <td>3034</td>\n",
       "      <td>3 8</td>\n",
       "      <td>0</td>\n",
       "      <td>0</td>\n",
       "      <td>0</td>\n",
       "      <td>1</td>\n",
       "      <td>0</td>\n",
       "      <td>0</td>\n",
       "      <td>0</td>\n",
       "      <td>...</td>\n",
       "      <td>0.00000</td>\n",
       "      <td>1.323789</td>\n",
       "      <td>0</td>\n",
       "      <td>0.000000</td>\n",
       "      <td>0</td>\n",
       "      <td>0.226294</td>\n",
       "      <td>0.392975</td>\n",
       "      <td>0.000000</td>\n",
       "      <td>4.784612</td>\n",
       "      <td>0</td>\n",
       "    </tr>\n",
       "    <tr>\n",
       "      <th>2</th>\n",
       "      <td>94586</td>\n",
       "      <td>3034</td>\n",
       "      <td>3 8</td>\n",
       "      <td>0</td>\n",
       "      <td>0</td>\n",
       "      <td>0</td>\n",
       "      <td>1</td>\n",
       "      <td>0</td>\n",
       "      <td>0</td>\n",
       "      <td>0</td>\n",
       "      <td>...</td>\n",
       "      <td>0.00000</td>\n",
       "      <td>1.205008</td>\n",
       "      <td>0</td>\n",
       "      <td>2.414163</td>\n",
       "      <td>0</td>\n",
       "      <td>0.000000</td>\n",
       "      <td>0.000000</td>\n",
       "      <td>0.586437</td>\n",
       "      <td>0.000000</td>\n",
       "      <td>0</td>\n",
       "    </tr>\n",
       "    <tr>\n",
       "      <th>3</th>\n",
       "      <td>74369</td>\n",
       "      <td>3034</td>\n",
       "      <td>3 8</td>\n",
       "      <td>0</td>\n",
       "      <td>0</td>\n",
       "      <td>0</td>\n",
       "      <td>1</td>\n",
       "      <td>0</td>\n",
       "      <td>0</td>\n",
       "      <td>0</td>\n",
       "      <td>...</td>\n",
       "      <td>0.00000</td>\n",
       "      <td>0.063151</td>\n",
       "      <td>0</td>\n",
       "      <td>0.000000</td>\n",
       "      <td>0</td>\n",
       "      <td>2.420469</td>\n",
       "      <td>0.000000</td>\n",
       "      <td>0.000000</td>\n",
       "      <td>0.000000</td>\n",
       "      <td>0</td>\n",
       "    </tr>\n",
       "    <tr>\n",
       "      <th>4</th>\n",
       "      <td>95287</td>\n",
       "      <td>3034</td>\n",
       "      <td>3 8</td>\n",
       "      <td>0</td>\n",
       "      <td>0</td>\n",
       "      <td>0</td>\n",
       "      <td>1</td>\n",
       "      <td>0</td>\n",
       "      <td>0</td>\n",
       "      <td>0</td>\n",
       "      <td>...</td>\n",
       "      <td>0.23825</td>\n",
       "      <td>1.356925</td>\n",
       "      <td>0</td>\n",
       "      <td>0.000000</td>\n",
       "      <td>0</td>\n",
       "      <td>0.000000</td>\n",
       "      <td>0.000000</td>\n",
       "      <td>0.000000</td>\n",
       "      <td>0.000000</td>\n",
       "      <td>0</td>\n",
       "    </tr>\n",
       "  </tbody>\n",
       "</table>\n",
       "<p>5 rows × 4108 columns</p>\n",
       "</div>"
      ],
      "text/plain": [
       "   photo_id  business_id labels  good_for_lunch  good_for_dinner  \\\n",
       "0    204149         3034    3 8               0                0   \n",
       "1     48723         3034    3 8               0                0   \n",
       "2     94586         3034    3 8               0                0   \n",
       "3     74369         3034    3 8               0                0   \n",
       "4     95287         3034    3 8               0                0   \n",
       "\n",
       "   takes_reservations  outdoor_seating  restaurant_is_expensive  has_alcohol  \\\n",
       "0                   0                1                        0            0   \n",
       "1                   0                1                        0            0   \n",
       "2                   0                1                        0            0   \n",
       "3                   0                1                        0            0   \n",
       "4                   0                1                        0            0   \n",
       "\n",
       "   has_table_service  ...      f4086     f4087  f4088     f4089  f4090  \\\n",
       "0                  0  ...    0.00000  0.000000      0  0.000000      0   \n",
       "1                  0  ...    0.00000  1.323789      0  0.000000      0   \n",
       "2                  0  ...    0.00000  1.205008      0  2.414163      0   \n",
       "3                  0  ...    0.00000  0.063151      0  0.000000      0   \n",
       "4                  0  ...    0.23825  1.356925      0  0.000000      0   \n",
       "\n",
       "      f4091     f4092     f4093     f4094  f4095  \n",
       "0  0.118222  0.000000  0.058655  0.000000      0  \n",
       "1  0.226294  0.392975  0.000000  4.784612      0  \n",
       "2  0.000000  0.000000  0.586437  0.000000      0  \n",
       "3  2.420469  0.000000  0.000000  0.000000      0  \n",
       "4  0.000000  0.000000  0.000000  0.000000      0  \n",
       "\n",
       "[5 rows x 4108 columns]"
      ]
     },
     "execution_count": 4,
     "metadata": {},
     "output_type": "execute_result"
    }
   ],
   "source": [
    "Xtrain.head()"
   ]
  },
  {
   "cell_type": "code",
   "execution_count": 8,
   "metadata": {
    "collapsed": false,
    "scrolled": true
   },
   "outputs": [
    {
     "name": "stdout",
     "output_type": "stream",
     "text": [
      "2 2974 117.50751503 205.164285908\n"
     ]
    },
    {
     "data": {
      "text/plain": [
       "<Container object of 1996 artists>"
      ]
     },
     "execution_count": 8,
     "metadata": {},
     "output_type": "execute_result"
    },
    {
     "data": {
      "image/png": "[encoded data removed]",
      "text/plain": [
       "<matplotlib.figure.Figure at 0x7efd979a60d0>"
      ]
     },
     "metadata": {},
     "output_type": "display_data"
    }
   ],
   "source": [
    "valcounts = Xtrain['business_id'].value_counts()\n",
    "print np.min(valcounts), np.max(valcounts), np.mean(valcounts), np.std(valcounts)\n",
    "plt.bar(np.arange(len(valcounts)),  valcounts)"
   ]
  },
  {
   "cell_type": "code",
   "execution_count": 5,
   "metadata": {
    "collapsed": true
   },
   "outputs": [],
   "source": [
    "Xtrain_groupped = Xtrain.groupby('business_id').mean()"
   ]
  },
  {
   "cell_type": "code",
   "execution_count": 6,
   "metadata": {
    "collapsed": false
   },
   "outputs": [
    {
     "data": {
      "text/html": [
       "<div>\n",
       "<table border=\"1\" class=\"dataframe\">\n",
       "  <thead>\n",
       "    <tr style=\"text-align: right;\">\n",
       "      <th></th>\n",
       "      <th>photo_id</th>\n",
       "      <th>good_for_lunch</th>\n",
       "      <th>good_for_dinner</th>\n",
       "      <th>takes_reservations</th>\n",
       "      <th>outdoor_seating</th>\n",
       "      <th>restaurant_is_expensive</th>\n",
       "      <th>has_alcohol</th>\n",
       "      <th>has_table_service</th>\n",
       "      <th>ambience_is_classy</th>\n",
       "      <th>good_for_kids</th>\n",
       "      <th>...</th>\n",
       "      <th>f4086</th>\n",
       "      <th>f4087</th>\n",
       "      <th>f4088</th>\n",
       "      <th>f4089</th>\n",
       "      <th>f4090</th>\n",
       "      <th>f4091</th>\n",
       "      <th>f4092</th>\n",
       "      <th>f4093</th>\n",
       "      <th>f4094</th>\n",
       "      <th>f4095</th>\n",
       "    </tr>\n",
       "    <tr>\n",
       "      <th>business_id</th>\n",
       "      <th></th>\n",
       "      <th></th>\n",
       "      <th></th>\n",
       "      <th></th>\n",
       "      <th></th>\n",
       "      <th></th>\n",
       "      <th></th>\n",
       "      <th></th>\n",
       "      <th></th>\n",
       "      <th></th>\n",
       "      <th></th>\n",
       "      <th></th>\n",
       "      <th></th>\n",
       "      <th></th>\n",
       "      <th></th>\n",
       "      <th></th>\n",
       "      <th></th>\n",
       "      <th></th>\n",
       "      <th></th>\n",
       "      <th></th>\n",
       "      <th></th>\n",
       "    </tr>\n",
       "  </thead>\n",
       "  <tbody>\n",
       "    <tr>\n",
       "      <th>3</th>\n",
       "      <td>261969</td>\n",
       "      <td>1</td>\n",
       "      <td>0</td>\n",
       "      <td>0</td>\n",
       "      <td>0</td>\n",
       "      <td>0</td>\n",
       "      <td>0</td>\n",
       "      <td>0</td>\n",
       "      <td>0</td>\n",
       "      <td>1</td>\n",
       "      <td>...</td>\n",
       "      <td>0.007249</td>\n",
       "      <td>0.452920</td>\n",
       "      <td>0.277360</td>\n",
       "      <td>0.028470</td>\n",
       "      <td>0.027481</td>\n",
       "      <td>0.340723</td>\n",
       "      <td>0.350937</td>\n",
       "      <td>0.150377</td>\n",
       "      <td>0.827096</td>\n",
       "      <td>0.310476</td>\n",
       "    </tr>\n",
       "    <tr>\n",
       "      <th>4</th>\n",
       "      <td>245907</td>\n",
       "      <td>0</td>\n",
       "      <td>1</td>\n",
       "      <td>1</td>\n",
       "      <td>0</td>\n",
       "      <td>1</td>\n",
       "      <td>1</td>\n",
       "      <td>1</td>\n",
       "      <td>0</td>\n",
       "      <td>0</td>\n",
       "      <td>...</td>\n",
       "      <td>0.042417</td>\n",
       "      <td>0.539232</td>\n",
       "      <td>0.020760</td>\n",
       "      <td>0.206957</td>\n",
       "      <td>0.137461</td>\n",
       "      <td>1.384346</td>\n",
       "      <td>0.326804</td>\n",
       "      <td>1.209206</td>\n",
       "      <td>0.431742</td>\n",
       "      <td>0.208751</td>\n",
       "    </tr>\n",
       "    <tr>\n",
       "      <th>5</th>\n",
       "      <td>240687</td>\n",
       "      <td>0</td>\n",
       "      <td>1</td>\n",
       "      <td>1</td>\n",
       "      <td>0</td>\n",
       "      <td>1</td>\n",
       "      <td>1</td>\n",
       "      <td>1</td>\n",
       "      <td>1</td>\n",
       "      <td>0</td>\n",
       "      <td>...</td>\n",
       "      <td>0.170661</td>\n",
       "      <td>0.479241</td>\n",
       "      <td>0.137212</td>\n",
       "      <td>0.358951</td>\n",
       "      <td>0.082067</td>\n",
       "      <td>0.741180</td>\n",
       "      <td>0.614163</td>\n",
       "      <td>0.973072</td>\n",
       "      <td>0.266674</td>\n",
       "      <td>0.462403</td>\n",
       "    </tr>\n",
       "    <tr>\n",
       "      <th>6</th>\n",
       "      <td>242288</td>\n",
       "      <td>1</td>\n",
       "      <td>1</td>\n",
       "      <td>0</td>\n",
       "      <td>0</td>\n",
       "      <td>0</td>\n",
       "      <td>0</td>\n",
       "      <td>1</td>\n",
       "      <td>0</td>\n",
       "      <td>1</td>\n",
       "      <td>...</td>\n",
       "      <td>0.170635</td>\n",
       "      <td>0.416276</td>\n",
       "      <td>0.071811</td>\n",
       "      <td>0.153674</td>\n",
       "      <td>0.100524</td>\n",
       "      <td>0.809660</td>\n",
       "      <td>0.252170</td>\n",
       "      <td>0.495948</td>\n",
       "      <td>0.281671</td>\n",
       "      <td>0.135276</td>\n",
       "    </tr>\n",
       "    <tr>\n",
       "      <th>7</th>\n",
       "      <td>218456</td>\n",
       "      <td>1</td>\n",
       "      <td>1</td>\n",
       "      <td>0</td>\n",
       "      <td>0</td>\n",
       "      <td>0</td>\n",
       "      <td>0</td>\n",
       "      <td>0</td>\n",
       "      <td>0</td>\n",
       "      <td>1</td>\n",
       "      <td>...</td>\n",
       "      <td>0.105264</td>\n",
       "      <td>0.273392</td>\n",
       "      <td>0.097081</td>\n",
       "      <td>0.247766</td>\n",
       "      <td>0.283528</td>\n",
       "      <td>0.427665</td>\n",
       "      <td>0.297862</td>\n",
       "      <td>0.199000</td>\n",
       "      <td>0.463848</td>\n",
       "      <td>0.425252</td>\n",
       "    </tr>\n",
       "  </tbody>\n",
       "</table>\n",
       "<p>5 rows × 4106 columns</p>\n",
       "</div>"
      ],
      "text/plain": [
       "             photo_id  good_for_lunch  good_for_dinner  takes_reservations  \\\n",
       "business_id                                                                  \n",
       "3              261969               1                0                   0   \n",
       "4              245907               0                1                   1   \n",
       "5              240687               0                1                   1   \n",
       "6              242288               1                1                   0   \n",
       "7              218456               1                1                   0   \n",
       "\n",
       "             outdoor_seating  restaurant_is_expensive  has_alcohol  \\\n",
       "business_id                                                          \n",
       "3                          0                        0            0   \n",
       "4                          0                        1            1   \n",
       "5                          0                        1            1   \n",
       "6                          0                        0            0   \n",
       "7                          0                        0            0   \n",
       "\n",
       "             has_table_service  ambience_is_classy  good_for_kids    ...     \\\n",
       "business_id                                                          ...      \n",
       "3                            0                   0              1    ...      \n",
       "4                            1                   0              0    ...      \n",
       "5                            1                   1              0    ...      \n",
       "6                            1                   0              1    ...      \n",
       "7                            0                   0              1    ...      \n",
       "\n",
       "                f4086     f4087     f4088     f4089     f4090     f4091  \\\n",
       "business_id                                                               \n",
       "3            0.007249  0.452920  0.277360  0.028470  0.027481  0.340723   \n",
       "4            0.042417  0.539232  0.020760  0.206957  0.137461  1.384346   \n",
       "5            0.170661  0.479241  0.137212  0.358951  0.082067  0.741180   \n",
       "6            0.170635  0.416276  0.071811  0.153674  0.100524  0.809660   \n",
       "7            0.105264  0.273392  0.097081  0.247766  0.283528  0.427665   \n",
       "\n",
       "                f4092     f4093     f4094     f4095  \n",
       "business_id                                          \n",
       "3            0.350937  0.150377  0.827096  0.310476  \n",
       "4            0.326804  1.209206  0.431742  0.208751  \n",
       "5            0.614163  0.973072  0.266674  0.462403  \n",
       "6            0.252170  0.495948  0.281671  0.135276  \n",
       "7            0.297862  0.199000  0.463848  0.425252  \n",
       "\n",
       "[5 rows x 4106 columns]"
      ]
     },
     "execution_count": 6,
     "metadata": {},
     "output_type": "execute_result"
    }
   ],
   "source": [
    "Xtrain_groupped.head()"
   ]
  },
  {
   "cell_type": "code",
   "execution_count": 7,
   "metadata": {
    "collapsed": true
   },
   "outputs": [],
   "source": [
    "Xtrain_groupped.to_hdf('data/Xtrain_grouped.hdf5', 'Xtrain')"
   ]
  },
  {
   "cell_type": "code",
   "execution_count": 8,
   "metadata": {
    "collapsed": false
   },
   "outputs": [
    {
     "data": {
      "text/plain": [
       "(1996, 4096)"
      ]
     },
     "execution_count": 8,
     "metadata": {},
     "output_type": "execute_result"
    }
   ],
   "source": [
    "X = np.array(Xtrain_groupped[vgg_cols], dtype=np.float32)\n",
    "X.shape"
   ]
  },
  {
   "cell_type": "code",
   "execution_count": 9,
   "metadata": {
    "collapsed": false
   },
   "outputs": [
    {
     "data": {
      "text/plain": [
       "(1996, 9)"
      ]
     },
     "execution_count": 9,
     "metadata": {},
     "output_type": "execute_result"
    }
   ],
   "source": [
    "Y = np.array(Xtrain_groupped[categories], dtype=np.uint8)\n",
    "Y.shape"
   ]
  },
  {
   "cell_type": "code",
   "execution_count": 10,
   "metadata": {
    "collapsed": false
   },
   "outputs": [
    {
     "name": "stdout",
     "output_type": "stream",
     "text": [
      "(1596, 4096) (400, 4096) (1596, 9) (400, 9)\n"
     ]
    }
   ],
   "source": [
    "random_state = np.random.RandomState(0)\n",
    "Xtrain, Xval, ytrain, yval = train_test_split(X, Y, test_size=.2, random_state=random_state)\n",
    "\n",
    "print Xtrain.shape, Xval.shape, ytrain.shape, yval.shape"
   ]
  },
  {
   "cell_type": "code",
   "execution_count": 12,
   "metadata": {
    "collapsed": true
   },
   "outputs": [],
   "source": [
    "import time"
   ]
  },
  {
   "cell_type": "code",
   "execution_count": 13,
   "metadata": {
    "collapsed": false
   },
   "outputs": [
    {
     "name": "stdout",
     "output_type": "stream",
     "text": [
      "105.271114111 seconds passed\n"
     ]
    }
   ],
   "source": [
    "classifier = OneVsRestClassifier(svm.SVC(kernel='linear', probability=True), n_jobs=-1)\n",
    "\n",
    "start = time.time()\n",
    "classifier.fit(Xtrain, ytrain)\n",
    "print time.time() - start, 'seconds passed'"
   ]
  },
  {
   "cell_type": "code",
   "execution_count": 14,
   "metadata": {
    "collapsed": false
   },
   "outputs": [
    {
     "name": "stdout",
     "output_type": "stream",
     "text": [
      "1.0\n",
      "0.799199084668\n"
     ]
    }
   ],
   "source": [
    "print f1_score(ytrain, classifier.predict(Xtrain), average='micro')\n",
    "print f1_score(yval, classifier.predict(Xval), average='micro')"
   ]
  },
  {
   "cell_type": "code",
   "execution_count": 14,
   "metadata": {
    "collapsed": false,
    "scrolled": true
   },
   "outputs": [
    {
     "data": {
      "text/plain": [
       "['models/svm_over_vgg_classifier.pkl',\n",
       " 'models/svm_over_vgg_classifier.pkl_01.npy',\n",
       " 'models/svm_over_vgg_classifier.pkl_02.npy',\n",
       " 'models/svm_over_vgg_classifier.pkl_03.npy',\n",
       " 'models/svm_over_vgg_classifier.pkl_04.npy',\n",
       " 'models/svm_over_vgg_classifier.pkl_05.npy',\n",
       " 'models/svm_over_vgg_classifier.pkl_06.npy',\n",
       " 'models/svm_over_vgg_classifier.pkl_07.npy',\n",
       " 'models/svm_over_vgg_classifier.pkl_08.npy',\n",
       " 'models/svm_over_vgg_classifier.pkl_09.npy',\n",
       " 'models/svm_over_vgg_classifier.pkl_10.npy',\n",
       " 'models/svm_over_vgg_classifier.pkl_11.npy',\n",
       " 'models/svm_over_vgg_classifier.pkl_12.npy',\n",
       " 'models/svm_over_vgg_classifier.pkl_13.npy',\n",
       " 'models/svm_over_vgg_classifier.pkl_14.npy',\n",
       " 'models/svm_over_vgg_classifier.pkl_15.npy',\n",
       " 'models/svm_over_vgg_classifier.pkl_16.npy',\n",
       " 'models/svm_over_vgg_classifier.pkl_17.npy',\n",
       " 'models/svm_over_vgg_classifier.pkl_18.npy',\n",
       " 'models/svm_over_vgg_classifier.pkl_19.npy',\n",
       " 'models/svm_over_vgg_classifier.pkl_20.npy',\n",
       " 'models/svm_over_vgg_classifier.pkl_21.npy',\n",
       " 'models/svm_over_vgg_classifier.pkl_22.npy',\n",
       " 'models/svm_over_vgg_classifier.pkl_23.npy',\n",
       " 'models/svm_over_vgg_classifier.pkl_24.npy',\n",
       " 'models/svm_over_vgg_classifier.pkl_25.npy',\n",
       " 'models/svm_over_vgg_classifier.pkl_26.npy',\n",
       " 'models/svm_over_vgg_classifier.pkl_27.npy',\n",
       " 'models/svm_over_vgg_classifier.pkl_28.npy',\n",
       " 'models/svm_over_vgg_classifier.pkl_29.npy',\n",
       " 'models/svm_over_vgg_classifier.pkl_30.npy',\n",
       " 'models/svm_over_vgg_classifier.pkl_31.npy',\n",
       " 'models/svm_over_vgg_classifier.pkl_32.npy',\n",
       " 'models/svm_over_vgg_classifier.pkl_33.npy',\n",
       " 'models/svm_over_vgg_classifier.pkl_34.npy',\n",
       " 'models/svm_over_vgg_classifier.pkl_35.npy',\n",
       " 'models/svm_over_vgg_classifier.pkl_36.npy',\n",
       " 'models/svm_over_vgg_classifier.pkl_37.npy',\n",
       " 'models/svm_over_vgg_classifier.pkl_38.npy',\n",
       " 'models/svm_over_vgg_classifier.pkl_39.npy',\n",
       " 'models/svm_over_vgg_classifier.pkl_40.npy',\n",
       " 'models/svm_over_vgg_classifier.pkl_41.npy',\n",
       " 'models/svm_over_vgg_classifier.pkl_42.npy',\n",
       " 'models/svm_over_vgg_classifier.pkl_43.npy',\n",
       " 'models/svm_over_vgg_classifier.pkl_44.npy',\n",
       " 'models/svm_over_vgg_classifier.pkl_45.npy',\n",
       " 'models/svm_over_vgg_classifier.pkl_46.npy',\n",
       " 'models/svm_over_vgg_classifier.pkl_47.npy',\n",
       " 'models/svm_over_vgg_classifier.pkl_48.npy',\n",
       " 'models/svm_over_vgg_classifier.pkl_49.npy',\n",
       " 'models/svm_over_vgg_classifier.pkl_50.npy',\n",
       " 'models/svm_over_vgg_classifier.pkl_51.npy',\n",
       " 'models/svm_over_vgg_classifier.pkl_52.npy',\n",
       " 'models/svm_over_vgg_classifier.pkl_53.npy',\n",
       " 'models/svm_over_vgg_classifier.pkl_54.npy',\n",
       " 'models/svm_over_vgg_classifier.pkl_55.npy',\n",
       " 'models/svm_over_vgg_classifier.pkl_56.npy',\n",
       " 'models/svm_over_vgg_classifier.pkl_57.npy',\n",
       " 'models/svm_over_vgg_classifier.pkl_58.npy',\n",
       " 'models/svm_over_vgg_classifier.pkl_59.npy',\n",
       " 'models/svm_over_vgg_classifier.pkl_60.npy',\n",
       " 'models/svm_over_vgg_classifier.pkl_61.npy',\n",
       " 'models/svm_over_vgg_classifier.pkl_62.npy',\n",
       " 'models/svm_over_vgg_classifier.pkl_63.npy',\n",
       " 'models/svm_over_vgg_classifier.pkl_64.npy',\n",
       " 'models/svm_over_vgg_classifier.pkl_65.npy',\n",
       " 'models/svm_over_vgg_classifier.pkl_66.npy',\n",
       " 'models/svm_over_vgg_classifier.pkl_67.npy',\n",
       " 'models/svm_over_vgg_classifier.pkl_68.npy',\n",
       " 'models/svm_over_vgg_classifier.pkl_69.npy',\n",
       " 'models/svm_over_vgg_classifier.pkl_70.npy',\n",
       " 'models/svm_over_vgg_classifier.pkl_71.npy',\n",
       " 'models/svm_over_vgg_classifier.pkl_72.npy',\n",
       " 'models/svm_over_vgg_classifier.pkl_73.npy',\n",
       " 'models/svm_over_vgg_classifier.pkl_74.npy',\n",
       " 'models/svm_over_vgg_classifier.pkl_75.npy',\n",
       " 'models/svm_over_vgg_classifier.pkl_76.npy',\n",
       " 'models/svm_over_vgg_classifier.pkl_77.npy',\n",
       " 'models/svm_over_vgg_classifier.pkl_78.npy',\n",
       " 'models/svm_over_vgg_classifier.pkl_79.npy',\n",
       " 'models/svm_over_vgg_classifier.pkl_80.npy',\n",
       " 'models/svm_over_vgg_classifier.pkl_81.npy',\n",
       " 'models/svm_over_vgg_classifier.pkl_82.npy',\n",
       " 'models/svm_over_vgg_classifier.pkl_83.npy',\n",
       " 'models/svm_over_vgg_classifier.pkl_84.npy',\n",
       " 'models/svm_over_vgg_classifier.pkl_85.npy',\n",
       " 'models/svm_over_vgg_classifier.pkl_86.npy',\n",
       " 'models/svm_over_vgg_classifier.pkl_87.npy',\n",
       " 'models/svm_over_vgg_classifier.pkl_88.npy',\n",
       " 'models/svm_over_vgg_classifier.pkl_89.npy',\n",
       " 'models/svm_over_vgg_classifier.pkl_90.npy',\n",
       " 'models/svm_over_vgg_classifier.pkl_91.npy',\n",
       " 'models/svm_over_vgg_classifier.pkl_92.npy',\n",
       " 'models/svm_over_vgg_classifier.pkl_93.npy',\n",
       " 'models/svm_over_vgg_classifier.pkl_94.npy',\n",
       " 'models/svm_over_vgg_classifier.pkl_95.npy',\n",
       " 'models/svm_over_vgg_classifier.pkl_96.npy',\n",
       " 'models/svm_over_vgg_classifier.pkl_97.npy',\n",
       " 'models/svm_over_vgg_classifier.pkl_98.npy',\n",
       " 'models/svm_over_vgg_classifier.pkl_99.npy',\n",
       " 'models/svm_over_vgg_classifier.pkl_100.npy']"
      ]
     },
     "execution_count": 14,
     "metadata": {},
     "output_type": "execute_result"
    }
   ],
   "source": [
    "joblib.dump(classifier, 'models/svm_over_vgg_classifier.pkl') "
   ]
  },
  {
   "cell_type": "markdown",
   "metadata": {},
   "source": [
    "## Fit on full train data"
   ]
  },
  {
   "cell_type": "code",
   "execution_count": 16,
   "metadata": {
    "collapsed": false
   },
   "outputs": [
    {
     "name": "stdout",
     "output_type": "stream",
     "text": [
      "171.946300983 seconds passed\n"
     ]
    }
   ],
   "source": [
    "start = time.time()\n",
    "classifier.fit(X, Y)\n",
    "print time.time() - start, 'seconds passed'"
   ]
  },
  {
   "cell_type": "code",
   "execution_count": 17,
   "metadata": {
    "collapsed": false
   },
   "outputs": [
    {
     "name": "stdout",
     "output_type": "stream",
     "text": [
      "1.0\n",
      "1.0\n"
     ]
    }
   ],
   "source": [
    "# Both should be 1.0\n",
    "\n",
    "print f1_score(ytrain, classifier.predict(Xtrain), average='micro')\n",
    "print f1_score(yval, classifier.predict(Xval), average='micro')"
   ]
  },
  {
   "cell_type": "code",
   "execution_count": 18,
   "metadata": {
    "collapsed": false,
    "scrolled": true
   },
   "outputs": [
    {
     "data": {
      "text/plain": [
       "['models/svm_over_vgg_FULL/clf.pkl',\n",
       " 'models/svm_over_vgg_FULL/clf.pkl_01.npy',\n",
       " 'models/svm_over_vgg_FULL/clf.pkl_02.npy',\n",
       " 'models/svm_over_vgg_FULL/clf.pkl_03.npy',\n",
       " 'models/svm_over_vgg_FULL/clf.pkl_04.npy',\n",
       " 'models/svm_over_vgg_FULL/clf.pkl_05.npy',\n",
       " 'models/svm_over_vgg_FULL/clf.pkl_06.npy',\n",
       " 'models/svm_over_vgg_FULL/clf.pkl_07.npy',\n",
       " 'models/svm_over_vgg_FULL/clf.pkl_08.npy',\n",
       " 'models/svm_over_vgg_FULL/clf.pkl_09.npy',\n",
       " 'models/svm_over_vgg_FULL/clf.pkl_10.npy',\n",
       " 'models/svm_over_vgg_FULL/clf.pkl_11.npy',\n",
       " 'models/svm_over_vgg_FULL/clf.pkl_12.npy',\n",
       " 'models/svm_over_vgg_FULL/clf.pkl_13.npy',\n",
       " 'models/svm_over_vgg_FULL/clf.pkl_14.npy',\n",
       " 'models/svm_over_vgg_FULL/clf.pkl_15.npy',\n",
       " 'models/svm_over_vgg_FULL/clf.pkl_16.npy',\n",
       " 'models/svm_over_vgg_FULL/clf.pkl_17.npy',\n",
       " 'models/svm_over_vgg_FULL/clf.pkl_18.npy',\n",
       " 'models/svm_over_vgg_FULL/clf.pkl_19.npy',\n",
       " 'models/svm_over_vgg_FULL/clf.pkl_20.npy',\n",
       " 'models/svm_over_vgg_FULL/clf.pkl_21.npy',\n",
       " 'models/svm_over_vgg_FULL/clf.pkl_22.npy',\n",
       " 'models/svm_over_vgg_FULL/clf.pkl_23.npy',\n",
       " 'models/svm_over_vgg_FULL/clf.pkl_24.npy',\n",
       " 'models/svm_over_vgg_FULL/clf.pkl_25.npy',\n",
       " 'models/svm_over_vgg_FULL/clf.pkl_26.npy',\n",
       " 'models/svm_over_vgg_FULL/clf.pkl_27.npy',\n",
       " 'models/svm_over_vgg_FULL/clf.pkl_28.npy',\n",
       " 'models/svm_over_vgg_FULL/clf.pkl_29.npy',\n",
       " 'models/svm_over_vgg_FULL/clf.pkl_30.npy',\n",
       " 'models/svm_over_vgg_FULL/clf.pkl_31.npy',\n",
       " 'models/svm_over_vgg_FULL/clf.pkl_32.npy',\n",
       " 'models/svm_over_vgg_FULL/clf.pkl_33.npy',\n",
       " 'models/svm_over_vgg_FULL/clf.pkl_34.npy',\n",
       " 'models/svm_over_vgg_FULL/clf.pkl_35.npy',\n",
       " 'models/svm_over_vgg_FULL/clf.pkl_36.npy',\n",
       " 'models/svm_over_vgg_FULL/clf.pkl_37.npy',\n",
       " 'models/svm_over_vgg_FULL/clf.pkl_38.npy',\n",
       " 'models/svm_over_vgg_FULL/clf.pkl_39.npy',\n",
       " 'models/svm_over_vgg_FULL/clf.pkl_40.npy',\n",
       " 'models/svm_over_vgg_FULL/clf.pkl_41.npy',\n",
       " 'models/svm_over_vgg_FULL/clf.pkl_42.npy',\n",
       " 'models/svm_over_vgg_FULL/clf.pkl_43.npy',\n",
       " 'models/svm_over_vgg_FULL/clf.pkl_44.npy',\n",
       " 'models/svm_over_vgg_FULL/clf.pkl_45.npy',\n",
       " 'models/svm_over_vgg_FULL/clf.pkl_46.npy',\n",
       " 'models/svm_over_vgg_FULL/clf.pkl_47.npy',\n",
       " 'models/svm_over_vgg_FULL/clf.pkl_48.npy',\n",
       " 'models/svm_over_vgg_FULL/clf.pkl_49.npy',\n",
       " 'models/svm_over_vgg_FULL/clf.pkl_50.npy',\n",
       " 'models/svm_over_vgg_FULL/clf.pkl_51.npy',\n",
       " 'models/svm_over_vgg_FULL/clf.pkl_52.npy',\n",
       " 'models/svm_over_vgg_FULL/clf.pkl_53.npy',\n",
       " 'models/svm_over_vgg_FULL/clf.pkl_54.npy',\n",
       " 'models/svm_over_vgg_FULL/clf.pkl_55.npy',\n",
       " 'models/svm_over_vgg_FULL/clf.pkl_56.npy',\n",
       " 'models/svm_over_vgg_FULL/clf.pkl_57.npy',\n",
       " 'models/svm_over_vgg_FULL/clf.pkl_58.npy',\n",
       " 'models/svm_over_vgg_FULL/clf.pkl_59.npy',\n",
       " 'models/svm_over_vgg_FULL/clf.pkl_60.npy',\n",
       " 'models/svm_over_vgg_FULL/clf.pkl_61.npy',\n",
       " 'models/svm_over_vgg_FULL/clf.pkl_62.npy',\n",
       " 'models/svm_over_vgg_FULL/clf.pkl_63.npy',\n",
       " 'models/svm_over_vgg_FULL/clf.pkl_64.npy',\n",
       " 'models/svm_over_vgg_FULL/clf.pkl_65.npy',\n",
       " 'models/svm_over_vgg_FULL/clf.pkl_66.npy',\n",
       " 'models/svm_over_vgg_FULL/clf.pkl_67.npy',\n",
       " 'models/svm_over_vgg_FULL/clf.pkl_68.npy',\n",
       " 'models/svm_over_vgg_FULL/clf.pkl_69.npy',\n",
       " 'models/svm_over_vgg_FULL/clf.pkl_70.npy',\n",
       " 'models/svm_over_vgg_FULL/clf.pkl_71.npy',\n",
       " 'models/svm_over_vgg_FULL/clf.pkl_72.npy',\n",
       " 'models/svm_over_vgg_FULL/clf.pkl_73.npy',\n",
       " 'models/svm_over_vgg_FULL/clf.pkl_74.npy',\n",
       " 'models/svm_over_vgg_FULL/clf.pkl_75.npy',\n",
       " 'models/svm_over_vgg_FULL/clf.pkl_76.npy',\n",
       " 'models/svm_over_vgg_FULL/clf.pkl_77.npy',\n",
       " 'models/svm_over_vgg_FULL/clf.pkl_78.npy',\n",
       " 'models/svm_over_vgg_FULL/clf.pkl_79.npy',\n",
       " 'models/svm_over_vgg_FULL/clf.pkl_80.npy',\n",
       " 'models/svm_over_vgg_FULL/clf.pkl_81.npy',\n",
       " 'models/svm_over_vgg_FULL/clf.pkl_82.npy',\n",
       " 'models/svm_over_vgg_FULL/clf.pkl_83.npy',\n",
       " 'models/svm_over_vgg_FULL/clf.pkl_84.npy',\n",
       " 'models/svm_over_vgg_FULL/clf.pkl_85.npy',\n",
       " 'models/svm_over_vgg_FULL/clf.pkl_86.npy',\n",
       " 'models/svm_over_vgg_FULL/clf.pkl_87.npy',\n",
       " 'models/svm_over_vgg_FULL/clf.pkl_88.npy',\n",
       " 'models/svm_over_vgg_FULL/clf.pkl_89.npy',\n",
       " 'models/svm_over_vgg_FULL/clf.pkl_90.npy',\n",
       " 'models/svm_over_vgg_FULL/clf.pkl_91.npy',\n",
       " 'models/svm_over_vgg_FULL/clf.pkl_92.npy',\n",
       " 'models/svm_over_vgg_FULL/clf.pkl_93.npy',\n",
       " 'models/svm_over_vgg_FULL/clf.pkl_94.npy',\n",
       " 'models/svm_over_vgg_FULL/clf.pkl_95.npy',\n",
       " 'models/svm_over_vgg_FULL/clf.pkl_96.npy',\n",
       " 'models/svm_over_vgg_FULL/clf.pkl_97.npy',\n",
       " 'models/svm_over_vgg_FULL/clf.pkl_98.npy',\n",
       " 'models/svm_over_vgg_FULL/clf.pkl_99.npy',\n",
       " 'models/svm_over_vgg_FULL/clf.pkl_100.npy']"
      ]
     },
     "execution_count": 18,
     "metadata": {},
     "output_type": "execute_result"
    }
   ],
   "source": [
    "joblib.dump(classifier, 'models/svm_over_vgg_FULL/clf.pkl') "
   ]
  }
 ],
 "metadata": {
  "kernelspec": {
   "display_name": "Python 2",
   "language": "python",
   "name": "python2"
  },
  "language_info": {
   "codemirror_mode": {
    "name": "ipython",
    "version": 2
   },
   "file_extension": ".py",
   "mimetype": "text/x-python",
   "name": "python",
   "nbconvert_exporter": "python",
   "pygments_lexer": "ipython2",
   "version": "2.7.10"
  }
 },
 "nbformat": 4,
 "nbformat_minor": 0
}
