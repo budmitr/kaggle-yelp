{
 "cells": [
  {
   "cell_type": "code",
   "execution_count": 1,
   "metadata": {
    "collapsed": false
   },
   "outputs": [
    {
     "name": "stderr",
     "output_type": "stream",
     "text": [
      "Using Theano backend.\n",
      "Using gpu device 0: GeForce GTX 670 (CNMeM is disabled, CuDNN 4007)\n"
     ]
    }
   ],
   "source": [
    "import numpy as np\n",
    "import pandas as pd\n",
    "import matplotlib.pyplot as plt\n",
    "\n",
    "from sklearn.metrics import f1_score\n",
    "from sklearn.cross_validation import train_test_split\n",
    "from sklearn.preprocessing import MultiLabelBinarizer\n",
    "from keras.layers import LeakyReLU, PReLU, ELU, ParametricSoftplus, ThresholdedLinear, ThresholdedReLU, SReLU\n",
    "\n",
    "from keras.models import Sequential\n",
    "from keras.layers import Dense, Activation, BatchNormalization, Dropout\n",
    "from keras.regularizers import l1, l2, l1l2\n",
    "from keras.optimizers import Adam\n",
    "from keras.callbacks import Callback\n",
    "from keras import backend as K\n",
    "\n",
    "%matplotlib inline\n",
    "plt.rcParams['figure.figsize'] = (10.0, 5.0) # set default size of plots\n",
    "plt.rcParams['image.interpolation'] = 'nearest'"
   ]
  },
  {
   "cell_type": "code",
   "execution_count": 2,
   "metadata": {
    "collapsed": true
   },
   "outputs": [],
   "source": [
    "categories = [\n",
    "  'good_for_lunch', \n",
    "  'good_for_dinner', \n",
    "  'takes_reservations', \n",
    "  'outdoor_seating',\n",
    "  'restaurant_is_expensive',\n",
    "  'has_alcohol',\n",
    "  'has_table_service',\n",
    "  'ambience_is_classy',\n",
    "  'good_for_kids'\n",
    "]\n",
    "\n",
    "vgg_cols = ['f' + str(i) for i in range(4096)]"
   ]
  },
  {
   "cell_type": "code",
   "execution_count": 3,
   "metadata": {
    "collapsed": false
   },
   "outputs": [
    {
     "name": "stdout",
     "output_type": "stream",
     "text": [
      "(1596, 4096) (400, 4096) (1596, 9) (400, 9)\n"
     ]
    }
   ],
   "source": [
    "data = pd.read_hdf('data/Xtrain_grouped.hdf5')\n",
    "X, Y = np.array(data[vgg_cols]), np.array(data[categories])\n",
    "\n",
    "random_state = np.random.RandomState(0)\n",
    "Xtrain, Xval, ytrain, yval = train_test_split(X, Y, test_size=.2, random_state=random_state)\n",
    "valset = (Xval, yval)\n",
    "\n",
    "print Xtrain.shape, Xval.shape, ytrain.shape, yval.shape"
   ]
  },
  {
   "cell_type": "code",
   "execution_count": 4,
   "metadata": {
    "collapsed": false
   },
   "outputs": [
    {
     "name": "stdout",
     "output_type": "stream",
     "text": [
      "1 1637\n",
      "2 1707\n",
      "3 1654\n",
      "4 1746\n",
      "5 1735\n",
      "6 1521\n"
     ]
    },
    {
     "data": {
      "text/plain": [
       "(10000, 4096)"
      ]
     },
     "execution_count": 4,
     "metadata": {},
     "output_type": "execute_result"
    }
   ],
   "source": [
    "mlb = MultiLabelBinarizer()\n",
    "mlb.fit([(0,1,2,3,4,5,6,7,8)])\n",
    "\n",
    "dataTest = None\n",
    "for i in range(1, 7):\n",
    "  part = pd.read_hdf('data/Xtest_grouped_part' + str(i) + '.hdf5', 'Xtest')\n",
    "  print i, len(part)\n",
    "  \n",
    "  if dataTest is None:\n",
    "    dataTest = part\n",
    "  else:\n",
    "    dataTest = dataTest.append(part)\n",
    "    \n",
    "Xtest = np.array(dataTest[vgg_cols])\n",
    "Xtest.shape"
   ]
  },
  {
   "cell_type": "code",
   "execution_count": 5,
   "metadata": {
    "collapsed": true
   },
   "outputs": [],
   "source": [
    "def loss(ytrue, ypred):\n",
    "  return K.sum( (ytrue - ypred) ** 2 )"
   ]
  },
  {
   "cell_type": "code",
   "execution_count": 6,
   "metadata": {
    "collapsed": true
   },
   "outputs": [],
   "source": [
    "class f1printerCallback(Callback):\n",
    "  def __init__(self):\n",
    "    self.bestf1val = 0\n",
    "\n",
    "  def on_epoch_end(self, epoch, logs={}):\n",
    "    pred = self.model.predict(Xval)\n",
    "    pred[pred < .5] = 0\n",
    "    pred[pred > .5] = 1\n",
    "    f1_val = f1_score(yval, pred, average='micro')\n",
    "\n",
    "    if f1_val > self.bestf1val:\n",
    "      print 'Epoch %d -- val %f (micro %f)' % (epoch, f1_val, f1_score(yval, pred, average='micro'))\n",
    "      self.bestf1val = f1_val"
   ]
  },
  {
   "cell_type": "markdown",
   "metadata": {},
   "source": [
    "# Train models"
   ]
  },
  {
   "cell_type": "code",
   "execution_count": 15,
   "metadata": {
    "collapsed": false
   },
   "outputs": [
    {
     "data": {
      "text/plain": [
       "[50, 100, 150, 200, 250, 300, 350, 400, 450, 500]"
      ]
     },
     "execution_count": 15,
     "metadata": {},
     "output_type": "execute_result"
    }
   ],
   "source": [
    "neurons = range(50, 501, 50)\n",
    "neurons"
   ]
  },
  {
   "cell_type": "code",
   "execution_count": 16,
   "metadata": {
    "collapsed": false
   },
   "outputs": [
    {
     "data": {
      "text/plain": [
       "array([ 0.1 ,  0.15,  0.2 ,  0.25,  0.3 ,  0.35,  0.4 ,  0.45,  0.5 ])"
      ]
     },
     "execution_count": 16,
     "metadata": {},
     "output_type": "execute_result"
    }
   ],
   "source": [
    "dropout_vals = np.linspace(.1, .5, 9)\n",
    "dropout_vals"
   ]
  },
  {
   "cell_type": "code",
   "execution_count": 17,
   "metadata": {
    "collapsed": true
   },
   "outputs": [],
   "source": [
    "def get_model(n_neurons, dropout_val):\n",
    "  model = Sequential()\n",
    "  np.random.seed(0)\n",
    "  \n",
    "  model.add(Dense(n_neurons, input_shape=(4096,), activation='softplus'))\n",
    "  model.add(Dropout(dropout_val))\n",
    "\n",
    "  model.add(Dense(9, activation='sigmoid'))\n",
    "  model.compile(loss=loss, optimizer='adam')\n",
    "  \n",
    "  return model"
   ]
  },
  {
   "cell_type": "code",
   "execution_count": 19,
   "metadata": {
    "collapsed": false,
    "scrolled": true
   },
   "outputs": [
    {
     "name": "stdout",
     "output_type": "stream",
     "text": [
      "50 0.1 0.837531137559\n",
      "50 0.15 0.838850889193\n",
      "50 0.2 0.837248322148\n",
      "50 0.25 0.838383838384\n",
      "50 0.3 0.833095577746\n",
      "50 0.35 0.83189902467\n",
      "50 0.4 0.831990794016\n",
      "50 0.45 0.832997987928\n",
      "50 0.5 0.829525483304\n",
      "100 0.1 0.829595106321\n",
      "100 0.15 0.827646038172\n",
      "100 0.2 0.833716915995\n",
      "100 0.25 0.839703365659\n",
      "100 0.3 0.837209302326\n",
      "100 0.35 0.834682080925\n",
      "100 0.4 0.833285673434\n",
      "100 0.45 0.835906232133\n",
      "100 0.5 0.836510687464\n",
      "150 0.1 0.82848262221\n",
      "150 0.15 0.826200873362\n",
      "150 0.2 0.833666191155\n",
      "150 0.25 0.836322231711\n",
      "150 0.3 0.833476149672\n",
      "150 0.35 0.836519258203\n",
      "150 0.4 0.833850493653\n",
      "150 0.45 0.839809896561\n",
      "150 0.5 0.84246188594\n",
      "200 0.1 0.835177304965\n",
      "200 0.15 0.829578278452\n",
      "200 0.2 0.832764505119\n",
      "200 0.25 0.829962973512\n",
      "200 0.3 0.83612610054\n",
      "200 0.35 0.835537665325\n",
      "200 0.4 0.825378346915\n",
      "200 0.45 0.828713160198\n",
      "200 0.5 0.825287356322\n",
      "250 0.1 0.83409350057\n",
      "250 0.15 0.828306264501\n",
      "250 0.2 0.828563168546\n",
      "250 0.25 0.823322590097\n",
      "250 0.3 0.829954954955\n",
      "250 0.35 0.832622904234\n",
      "250 0.4 0.833286318759\n",
      "250 0.45 0.832487309645\n",
      "250 0.5 0.834597023308\n",
      "300 0.1 0.818779904306\n",
      "300 0.15 0.815914489311\n",
      "300 0.2 0.820782253357\n",
      "300 0.25 0.825746593215\n",
      "300 0.3 0.829000577701\n",
      "300 0.35 0.830351990767\n",
      "300 0.4 0.82446339312\n",
      "300 0.45 0.831889081456\n",
      "300 0.5 0.832041343669\n",
      "350 0.1 0.829854160709\n",
      "350 0.15 0.825226244344\n",
      "350 0.2 0.83110984956\n",
      "350 0.25 0.836820083682\n",
      "350 0.3 0.828080229226\n",
      "350 0.35 0.829479768786\n",
      "350 0.4 0.833814195038\n",
      "350 0.45 0.838541666667\n",
      "350 0.5 0.837236195432\n",
      "400 0.1 0.831644144144\n",
      "400 0.15 0.83545018346\n",
      "400 0.2 0.830050647158\n",
      "400 0.25 0.839240147434\n",
      "400 0.3 0.836560364465\n",
      "400 0.35 0.839230983561\n",
      "400 0.4 0.839428571429\n",
      "400 0.45 0.838802533103\n",
      "400 0.5 0.835537665325\n",
      "450 0.1 0.830926083263\n",
      "450 0.15 0.84057158868\n",
      "450 0.2 0.834433285509\n",
      "450 0.25 0.831370295892\n",
      "450 0.3 0.836530203264\n",
      "450 0.35 0.830670926518\n",
      "450 0.4 0.83735277622\n",
      "450 0.45 0.832953249715\n",
      "450 0.5 0.839301059868\n",
      "500 0.1 0.834967778089\n",
      "500 0.15 0.833896396396\n",
      "500 0.2 0.837611607143\n",
      "500 0.25 0.834645669291\n",
      "500 0.3 0.833850493653\n",
      "500 0.35 0.829226361032\n",
      "500 0.4 0.840506329114\n",
      "500 0.45 0.827306913509\n",
      "500 0.5 0.83545034642\n"
     ]
    }
   ],
   "source": [
    "models = []\n",
    "\n",
    "for neu in n_neurons:\n",
    "  for dro in dropout_vals:\n",
    "    model = get_model(neu, dro)\n",
    "    model.fit(Xtrain, ytrain, verbose=0)\n",
    "    \n",
    "    pred = model.predict(Xval)\n",
    "    pred[pred < .5] = 0\n",
    "    pred[pred > .5] = 1\n",
    "    f1_val = f1_score(yval, pred, average='micro')\n",
    "    print neu, dro, f1_val\n",
    "    \n",
    "    models.append((f1_val, model))"
   ]
  },
  {
   "cell_type": "code",
   "execution_count": 23,
   "metadata": {
    "collapsed": false
   },
   "outputs": [],
   "source": [
    "sorted_by_f1val = sorted(models, key=lambda t: -t[0])"
   ]
  },
  {
   "cell_type": "code",
   "execution_count": 24,
   "metadata": {
    "collapsed": false
   },
   "outputs": [
    {
     "name": "stdout",
     "output_type": "stream",
     "text": [
      "0.84246188594 0.84057158868 0.840506329114 0.839809896561 0.839703365659 0.839428571429 0.839301059868 0.839240147434 0.839230983561 0.838850889193 0.838802533103 0.838541666667 0.838383838384 0.837611607143 0.837531137559 0.83735277622 0.837248322148 0.837236195432 0.837209302326 0.836820083682 0.836560364465 0.836530203264 0.836519258203 0.836510687464 0.836322231711 0.83612610054 0.835906232133 0.835537665325 0.835537665325 0.83545034642 0.83545018346 0.835177304965 0.834967778089 0.834682080925 0.834645669291 0.834597023308 0.834433285509 0.83409350057 0.833896396396 0.833850493653 0.833850493653 0.833814195038 0.833716915995 0.833666191155 0.833476149672 0.833286318759 0.833285673434 0.833095577746 0.832997987928 0.832953249715 0.832764505119 0.832622904234 0.832487309645 0.832041343669 0.831990794016 0.83189902467 0.831889081456 0.831644144144 0.831370295892 0.83110984956 0.830926083263 0.830670926518 0.830351990767 0.830050647158 0.829962973512 0.829954954955 0.829854160709 0.829595106321 0.829578278452 0.829525483304 0.829479768786 0.829226361032 0.829000577701 0.828713160198 0.828563168546 0.82848262221 0.828306264501 0.828080229226 0.827646038172 0.827306913509 0.826200873362 0.825746593215 0.825378346915 0.825287356322 0.825226244344 0.82446339312 0.823322590097 0.820782253357 0.818779904306 0.815914489311\n"
     ]
    }
   ],
   "source": [
    "for s in sorted_by_f1val:\n",
    "  print s[0],"
   ]
  },
  {
   "cell_type": "code",
   "execution_count": 36,
   "metadata": {
    "collapsed": true
   },
   "outputs": [],
   "source": [
    "def get_best_models(n_models):\n",
    "  best_models = []\n",
    "  \n",
    "  for s in sorted_by_f1val:\n",
    "#     print s[0]\n",
    "    best_models.append(s[1])\n",
    "    \n",
    "    if len(best_models) >= n_models:\n",
    "      break\n",
    "    \n",
    "  return best_models"
   ]
  },
  {
   "cell_type": "code",
   "execution_count": 26,
   "metadata": {
    "collapsed": true
   },
   "outputs": [],
   "source": [
    "def predict_ensemble(models, X):\n",
    "  pred = np.zeros((len(models), X.shape[0], 9))\n",
    "  \n",
    "  for idx, model in enumerate(models):\n",
    "    pred[idx] = model.predict(X)\n",
    "    \n",
    "  result = pred.mean(axis=0)\n",
    "  assert result.shape[0] == X.shape[0]\n",
    "  assert result.shape[1] == 9\n",
    "  return result"
   ]
  },
  {
   "cell_type": "code",
   "execution_count": 40,
   "metadata": {
    "collapsed": true
   },
   "outputs": [],
   "source": [
    "f1s = []\n",
    "\n",
    "for i in range(len(models)):  \n",
    "  pred = predict_ensemble(get_best_models(i + 1), Xval)\n",
    "  pred[pred < .5] = 0\n",
    "  pred[pred > .5] = 1\n",
    "  \n",
    "  f1s.append(f1_score(yval, pred, average='micro'))"
   ]
  },
  {
   "cell_type": "code",
   "execution_count": 42,
   "metadata": {
    "collapsed": false
   },
   "outputs": [
    {
     "data": {
      "text/plain": [
       "38"
      ]
     },
     "execution_count": 42,
     "metadata": {},
     "output_type": "execute_result"
    }
   ],
   "source": [
    "np.argmax(f1s)"
   ]
  },
  {
   "cell_type": "code",
   "execution_count": 43,
   "metadata": {
    "collapsed": false
   },
   "outputs": [
    {
     "data": {
      "text/plain": [
       "[0.84335981838819518, 0.84458309699376044, 0.84425531914893615]"
      ]
     },
     "execution_count": 43,
     "metadata": {},
     "output_type": "execute_result"
    }
   ],
   "source": [
    "f1s[37:40]"
   ]
  },
  {
   "cell_type": "code",
   "execution_count": 41,
   "metadata": {
    "collapsed": false
   },
   "outputs": [
    {
     "data": {
      "text/plain": [
       "[<matplotlib.lines.Line2D at 0x7fc45d012790>]"
      ]
     },
     "execution_count": 41,
     "metadata": {},
     "output_type": "execute_result"
    },
    {
     "data": {
      "image/png": "[encoded data removed]",
      "text/plain": [
       "<matplotlib.figure.Figure at 0x7fc45d24b6d0>"
      ]
     },
     "metadata": {},
     "output_type": "display_data"
    }
   ],
   "source": [
    "plt.plot(np.arange(len(models)), f1s)"
   ]
  },
  {
   "cell_type": "code",
   "execution_count": 47,
   "metadata": {
    "collapsed": false
   },
   "outputs": [
    {
     "data": {
      "text/plain": [
       "0.84305438151592005"
      ]
     },
     "execution_count": 47,
     "metadata": {},
     "output_type": "execute_result"
    }
   ],
   "source": [
    "pred = predict_ensemble(get_best_models(19), Xval)\n",
    "pred[pred < .5] = 0\n",
    "pred[pred > .5] = 1\n",
    "\n",
    "f1_score(yval, pred, average='micro')"
   ]
  },
  {
   "cell_type": "markdown",
   "metadata": {},
   "source": [
    "# Test data predictions"
   ]
  },
  {
   "cell_type": "code",
   "execution_count": 48,
   "metadata": {
    "collapsed": false
   },
   "outputs": [
    {
     "data": {
      "text/html": [
       "<div>\n",
       "<table border=\"1\" class=\"dataframe\">\n",
       "  <thead>\n",
       "    <tr style=\"text-align: right;\">\n",
       "      <th></th>\n",
       "      <th>business_id</th>\n",
       "      <th>labels</th>\n",
       "    </tr>\n",
       "  </thead>\n",
       "  <tbody>\n",
       "    <tr>\n",
       "      <th>0</th>\n",
       "      <td>003sg</td>\n",
       "      <td>1 2 3 5 6 8</td>\n",
       "    </tr>\n",
       "    <tr>\n",
       "      <th>1</th>\n",
       "      <td>00er5</td>\n",
       "      <td>1 2 3 5 6 8</td>\n",
       "    </tr>\n",
       "    <tr>\n",
       "      <th>2</th>\n",
       "      <td>00kad</td>\n",
       "      <td>1 2 3 5 6 8</td>\n",
       "    </tr>\n",
       "    <tr>\n",
       "      <th>3</th>\n",
       "      <td>00mc6</td>\n",
       "      <td>1 2 4 5 6</td>\n",
       "    </tr>\n",
       "    <tr>\n",
       "      <th>4</th>\n",
       "      <td>00q7x</td>\n",
       "      <td>1 2 4 5 6 7</td>\n",
       "    </tr>\n",
       "  </tbody>\n",
       "</table>\n",
       "</div>"
      ],
      "text/plain": [
       "  business_id       labels\n",
       "0       003sg  1 2 3 5 6 8\n",
       "1       00er5  1 2 3 5 6 8\n",
       "2       00kad  1 2 3 5 6 8\n",
       "3       00mc6    1 2 4 5 6\n",
       "4       00q7x  1 2 4 5 6 7"
      ]
     },
     "execution_count": 48,
     "metadata": {},
     "output_type": "execute_result"
    }
   ],
   "source": [
    "# pred = model.predict(Xtest)\n",
    "pred = predict_ensemble(get_best_models(19), Xtest)\n",
    "\n",
    "pred[pred < .5] = 0\n",
    "pred[pred > .5] = 1\n",
    "labels = mlb.inverse_transform(pred)\n",
    "labels_str = [' '.join(map(str, l)) for l in labels]\n",
    "results = pd.DataFrame({'business_id': dataTest.index, 'labels': pd.Series(labels_str)})\n",
    "results.head()"
   ]
  },
  {
   "cell_type": "code",
   "execution_count": 49,
   "metadata": {
    "collapsed": true
   },
   "outputs": [],
   "source": [
    "results.to_csv('results/second_ensemble_19models.csv', index=False)"
   ]
  },
  {
   "cell_type": "code",
   "execution_count": null,
   "metadata": {
    "collapsed": true
   },
   "outputs": [],
   "source": []
  },
  {
   "cell_type": "code",
   "execution_count": null,
   "metadata": {
    "collapsed": true
   },
   "outputs": [],
   "source": []
  },
  {
   "cell_type": "code",
   "execution_count": null,
   "metadata": {
    "collapsed": true
   },
   "outputs": [],
   "source": []
  },
  {
   "cell_type": "code",
   "execution_count": null,
   "metadata": {
    "collapsed": true
   },
   "outputs": [],
   "source": []
  },
  {
   "cell_type": "code",
   "execution_count": null,
   "metadata": {
    "collapsed": true
   },
   "outputs": [],
   "source": []
  },
  {
   "cell_type": "code",
   "execution_count": null,
   "metadata": {
    "collapsed": true
   },
   "outputs": [],
   "source": []
  },
  {
   "cell_type": "code",
   "execution_count": null,
   "metadata": {
    "collapsed": true
   },
   "outputs": [],
   "source": []
  }
 ],
 "metadata": {
  "kernelspec": {
   "display_name": "Python 2",
   "language": "python",
   "name": "python2"
  },
  "language_info": {
   "codemirror_mode": {
    "name": "ipython",
    "version": 2
   },
   "file_extension": ".py",
   "mimetype": "text/x-python",
   "name": "python",
   "nbconvert_exporter": "python",
   "pygments_lexer": "ipython2",
   "version": "2.7.10"
  }
 },
 "nbformat": 4,
 "nbformat_minor": 0
}
