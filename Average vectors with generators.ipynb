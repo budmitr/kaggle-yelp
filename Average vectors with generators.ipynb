{
 "cells": [
  {
   "cell_type": "code",
   "execution_count": 52,
   "metadata": {
    "collapsed": false
   },
   "outputs": [],
   "source": [
    "import numpy as np\n",
    "import pandas as pd\n",
    "\n",
    "from sklearn.metrics import f1_score\n",
    "from sklearn.cross_validation import train_test_split\n",
    "from sklearn.preprocessing import MultiLabelBinarizer\n",
    "from keras.layers import LeakyReLU, PReLU, ELU, ParametricSoftplus, ThresholdedLinear, ThresholdedReLU, SReLU\n",
    "\n",
    "from keras.models import Sequential\n",
    "from keras.layers import Dense, Activation, BatchNormalization, Dropout\n",
    "from keras.regularizers import l1, l2, l1l2\n",
    "from keras.optimizers import Adam\n",
    "from keras.callbacks import Callback\n",
    "from keras import backend as K\n",
    "\n",
    "import matplotlib.pyplot as plt\n",
    "%matplotlib inline\n",
    "plt.rcParams['figure.figsize'] = (10.0, 5.0) # set default size of plots\n",
    "plt.rcParams['image.interpolation'] = 'nearest'"
   ]
  },
  {
   "cell_type": "code",
   "execution_count": 2,
   "metadata": {
    "collapsed": true
   },
   "outputs": [],
   "source": [
    "categories = [\n",
    "  'good_for_lunch', \n",
    "  'good_for_dinner', \n",
    "  'takes_reservations', \n",
    "  'outdoor_seating',\n",
    "  'restaurant_is_expensive',\n",
    "  'has_alcohol',\n",
    "  'has_table_service',\n",
    "  'ambience_is_classy',\n",
    "  'good_for_kids'\n",
    "]\n",
    "\n",
    "vgg_cols = ['f' + str(i) for i in range(4096)]"
   ]
  },
  {
   "cell_type": "code",
   "execution_count": 3,
   "metadata": {
    "collapsed": true
   },
   "outputs": [],
   "source": [
    "def loss(ytrue, ypred):\n",
    "  return K.sum( (ytrue - ypred) ** 2 )"
   ]
  },
  {
   "cell_type": "markdown",
   "metadata": {},
   "source": [
    "# Ensure same train-val split as in previous tests"
   ]
  },
  {
   "cell_type": "code",
   "execution_count": 4,
   "metadata": {
    "collapsed": false
   },
   "outputs": [
    {
     "name": "stdout",
     "output_type": "stream",
     "text": [
      "Int64Index([1386,  306, 2255,  621, 1750, 1024,  925,  472, 2515, 3204,\n",
      "            ...\n",
      "            3501, 1975, 2716, 3464, 1422, 1564, 2360, 3305, 1069, 1272],\n",
      "           dtype='int64', name=u'business_id', length=1596)\n",
      "Int64Index([ 782, 2303, 1259, 2662, 1512, 3540, 3202, 1317, 3441,   29,\n",
      "            ...\n",
      "             567,  100, 3476, 3592, 1327, 3177,  688, 3616, 1435, 1075],\n",
      "           dtype='int64', name=u'business_id', length=400)\n"
     ]
    }
   ],
   "source": [
    "grouped_data = pd.read_hdf('data/Xtrain_grouped.hdf5')\n",
    "X_grouped, Y_grouped = grouped_data[vgg_cols], grouped_data[categories]\n",
    "Xtrain_grouped, Xval_grouped, Ytrain_grouped, Yval_grouped = train_test_split(X_grouped, Y_grouped, test_size=.2, random_state=np.random.RandomState(0))\n",
    "\n",
    "train_ids = Xtrain_grouped.index # 1386 306 2255 621 1750 ... 1564 2360 3305 1069 1272\n",
    "val_ids = Xval_grouped.index # 782 2303 1259 2662 1512 ... 3177 688 3616 1435 1075\n",
    "print train_ids\n",
    "print val_ids"
   ]
  },
  {
   "cell_type": "markdown",
   "metadata": {},
   "source": [
    "# Load full xtrain data"
   ]
  },
  {
   "cell_type": "code",
   "execution_count": 5,
   "metadata": {
    "collapsed": true
   },
   "outputs": [],
   "source": [
    "full_data = pd.read_hdf('data/Xtrain_full_dataframe.ndf5', 'Xtrain')"
   ]
  },
  {
   "cell_type": "markdown",
   "metadata": {},
   "source": [
    "# Define mapper function"
   ]
  },
  {
   "cell_type": "code",
   "execution_count": 66,
   "metadata": {
    "collapsed": true
   },
   "outputs": [],
   "source": [
    "vec = 4096\n",
    "dim = vec * 1"
   ]
  },
  {
   "cell_type": "code",
   "execution_count": 78,
   "metadata": {
    "collapsed": true
   },
   "outputs": [],
   "source": [
    "def get_mapped_data(ids, data):\n",
    "  X = np.zeros((len(ids), dim)).astype('float16')\n",
    "  Y = np.zeros((len(ids), 9)).astype('uint8')\n",
    "  \n",
    "  for idx, busid in enumerate(ids):\n",
    "    res = data[data.business_id == busid]\n",
    "\n",
    "    cols = np.array(res[vgg_cols])\n",
    "#     X[idx,       : vec]   = cols.mean(axis=0) - cols.std(axis=0)\n",
    "#     X[idx, vec   : 2*vec] = cols.mean(axis=0)\n",
    "#     X[idx, 2*vec :      ] = cols.mean(axis=0) + cols.std(axis=0)\n",
    "\n",
    "    X[idx] = cols.mean(axis=0)# - cols.std(axis=0)\n",
    "    \n",
    "    Y[idx] = np.array(res[categories][:1])\n",
    "    \n",
    "  return X, Y"
   ]
  },
  {
   "cell_type": "code",
   "execution_count": 79,
   "metadata": {
    "collapsed": false,
    "scrolled": true
   },
   "outputs": [
    {
     "name": "stdout",
     "output_type": "stream",
     "text": [
      "float16 uint8\n",
      "(1596, 4096) (1596, 9)\n"
     ]
    }
   ],
   "source": [
    "Xmapped_train, Ymapped_train = get_mapped_data(train_ids, full_data)\n",
    "Xmapped_val,   Ymapped_val   = get_mapped_data(val_ids, full_data)\n",
    "print Xmapped_train.dtype, Ymapped_train.dtype\n",
    "print Xmapped_train.shape, Ymapped_train.shape"
   ]
  },
  {
   "cell_type": "markdown",
   "metadata": {},
   "source": [
    "# Play with single model"
   ]
  },
  {
   "cell_type": "code",
   "execution_count": 80,
   "metadata": {
    "collapsed": true
   },
   "outputs": [],
   "source": [
    "class f1evaluatorCallback(Callback):\n",
    "  def __init__(self):\n",
    "    self.bestf1val = 0\n",
    "\n",
    "  def on_epoch_end(self, epoch, logs={}):\n",
    "    pred = self.model.predict(Xmapped_train)\n",
    "    pred[pred < .5] = 0\n",
    "    pred[pred >= .5] = 1\n",
    "    f1_train = f1_score(Ymapped_train, pred, average='micro')\n",
    "    \n",
    "    pred = self.model.predict(Xmapped_val)\n",
    "    pred[pred < .5] = 0\n",
    "    pred[pred >= .5] = 1\n",
    "    f1_val = f1_score(Ymapped_val, pred, average='micro')\n",
    "\n",
    "    if f1_val > self.bestf1val:\n",
    "      self.bestf1val = f1_val\n",
    "      print 'Ep %i: train %f, val %f' % (epoch, f1_train, f1_val)"
   ]
  },
  {
   "cell_type": "code",
   "execution_count": 81,
   "metadata": {
    "collapsed": false
   },
   "outputs": [],
   "source": [
    "model = Sequential()\n",
    "np.random.seed(0)\n",
    "\n",
    "model.add(Dense(100, input_shape=(dim,), activation='softplus'))\n",
    "model.add(Dropout(.3))\n",
    "\n",
    "model.add(Dense(9, activation='sigmoid'))\n",
    "# model.add(Dense(9, input_shape=(dim,), activation='sigmoid'))\n",
    "model.compile(loss=loss, optimizer='adam')\n",
    "# model.compile(loss=loss, optimizer=Adam(lr=0.003))"
   ]
  },
  {
   "cell_type": "code",
   "execution_count": 82,
   "metadata": {
    "collapsed": false,
    "scrolled": true
   },
   "outputs": [
    {
     "name": "stdout",
     "output_type": "stream",
     "text": [
      "Ep 0: train 0.756202, val 0.755459\n",
      "Ep 1: train 0.776103, val 0.757156\n",
      "Ep 2: train 0.811924, val 0.795455\n",
      "Ep 3: train 0.826002, val 0.803685\n",
      "Ep 4: train 0.831829, val 0.806057\n",
      "Ep 6: train 0.842937, val 0.813933\n",
      "Ep 7: train 0.845077, val 0.817321\n",
      "Ep 11: train 0.857122, val 0.817780\n",
      "Ep 13: train 0.860967, val 0.818208\n",
      "Ep 14: train 0.864080, val 0.823392\n",
      "Ep 15: train 0.862960, val 0.825810\n",
      "Ep 18: train 0.873883, val 0.826275\n",
      "Ep 22: train 0.877681, val 0.830998\n",
      "Ep 25: train 0.882855, val 0.831228\n",
      "Ep 28: train 0.885101, val 0.833000\n",
      "Ep 32: train 0.890376, val 0.833906\n",
      "Ep 33: train 0.897016, val 0.834380\n",
      "Ep 47: train 0.910459, val 0.835997\n",
      "Ep 49: train 0.913047, val 0.836571\n",
      "Ep 52: train 0.917719, val 0.840260\n",
      "Ep 188: train 0.977861, val 0.841508\n"
     ]
    }
   ],
   "source": [
    "h = model.fit(Xmapped_train, Ymapped_train, verbose=0, callbacks=[f1evaluatorCallback()], nb_epoch=200)"
   ]
  },
  {
   "cell_type": "code",
   "execution_count": 83,
   "metadata": {
    "collapsed": false
   },
   "outputs": [
    {
     "data": {
      "text/plain": [
       "[<matplotlib.lines.Line2D at 0x7f2c403a7e50>]"
      ]
     },
     "execution_count": 83,
     "metadata": {},
     "output_type": "execute_result"
    },
    {
     "data": {
      "image/png": "[encoded data removed]",
      "text/plain": [
       "<matplotlib.figure.Figure at 0x7f2c427b7690>"
      ]
     },
     "metadata": {},
     "output_type": "display_data"
    }
   ],
   "source": [
    "plt.plot(h.epoch, h.history['loss'])"
   ]
  },
  {
   "cell_type": "code",
   "execution_count": null,
   "metadata": {
    "collapsed": true
   },
   "outputs": [],
   "source": []
  },
  {
   "cell_type": "markdown",
   "metadata": {},
   "source": [
    "# Train and evaluate ensebmle"
   ]
  },
  {
   "cell_type": "code",
   "execution_count": null,
   "metadata": {
    "collapsed": true
   },
   "outputs": [],
   "source": [
    "class f1evaluatorCallback(Callback):\n",
    "  def __init__(self):\n",
    "    self.bestf1val = 0\n",
    "\n",
    "  def on_epoch_end(self, epoch, logs={}):\n",
    "    pred = self.model.predict(Xval)\n",
    "    pred[pred < .5] = 0\n",
    "    pred[pred >= .5] = 1\n",
    "    f1_val = f1_score(yval, pred, average='micro')\n",
    "\n",
    "    if f1_val > self.bestf1val:\n",
    "      self.bestf1val = f1_val\n",
    "      self.model.save_weights('models/tmp_weights.h5', overwrite=True)"
   ]
  },
  {
   "cell_type": "code",
   "execution_count": 19,
   "metadata": {
    "collapsed": false
   },
   "outputs": [
    {
     "name": "stdout",
     "output_type": "stream",
     "text": [
      "[50, 100, 150, 200, 250, 300, 350, 400, 450, 500]\n",
      "[ 0.1  0.2  0.3  0.4  0.5]\n"
     ]
    }
   ],
   "source": [
    "neurons = range(50, 501, 50)\n",
    "dropout_vals = np.linspace(.1, .5, 5)\n",
    "print neurons\n",
    "print dropout_vals"
   ]
  },
  {
   "cell_type": "code",
   "execution_count": 20,
   "metadata": {
    "collapsed": true
   },
   "outputs": [],
   "source": [
    "def get_model(n_neurons, dropout_val):\n",
    "  model = Sequential()\n",
    "  np.random.seed(0)\n",
    "  \n",
    "  model.add(Dense(n_neurons, input_shape=(4096,), activation='softplus'))\n",
    "  model.add(Dropout(dropout_val))\n",
    "\n",
    "  model.add(Dense(9, activation='sigmoid'))\n",
    "  model.compile(loss=loss, optimizer='adam')\n",
    "  \n",
    "  return model"
   ]
  },
  {
   "cell_type": "code",
   "execution_count": null,
   "metadata": {
    "collapsed": true
   },
   "outputs": [],
   "source": [
    "models = []\n",
    "\n",
    "for neu in neurons:\n",
    "  for dro in dropout_vals:\n",
    "    print neu, dro,\n",
    "    model = get_model(neu, dro)\n",
    "    \n",
    "    model.fit(Xtrain, ytrain, verbose=0, callbacks=[f1stopperCallback()], nb_epoch=300)\n",
    "    \n",
    "    pred = model.predict(Xval)\n",
    "    pred[pred < .5] = 0\n",
    "    pred[pred >= .5] = 1\n",
    "    f1_val_last = f1_score(yval, pred, average='micro')\n",
    "    \n",
    "    model.load_weights('models/tmp_weights.h5')\n",
    "    \n",
    "    pred = model.predict(Xval)\n",
    "    pred[pred < .5] = 0\n",
    "    pred[pred >= .5] = 1\n",
    "    f1_val_best = f1_score(yval, pred, average='micro')\n",
    "    \n",
    "    print f1_val_last, f1_val_best\n",
    "    \n",
    "    models.append((f1_val_best, model))"
   ]
  }
 ],
 "metadata": {
  "kernelspec": {
   "display_name": "Python 2",
   "language": "python",
   "name": "python2"
  },
  "language_info": {
   "codemirror_mode": {
    "name": "ipython",
    "version": 2
   },
   "file_extension": ".py",
   "mimetype": "text/x-python",
   "name": "python",
   "nbconvert_exporter": "python",
   "pygments_lexer": "ipython2",
   "version": "2.7.10"
  }
 },
 "nbformat": 4,
 "nbformat_minor": 0
}
