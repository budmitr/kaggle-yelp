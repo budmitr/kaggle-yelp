{
 "cells": [
  {
   "cell_type": "code",
   "execution_count": 1,
   "metadata": {
    "collapsed": true
   },
   "outputs": [],
   "source": [
    "import numpy as np\n",
    "import pandas as pd"
   ]
  },
  {
   "cell_type": "code",
   "execution_count": 2,
   "metadata": {
    "collapsed": true
   },
   "outputs": [],
   "source": [
    "np.random.seed(0)\n",
    "X = np.arange(90).reshape(30, 3)\n",
    "labels = np.random.random_integers(1, 7, 30)"
   ]
  },
  {
   "cell_type": "code",
   "execution_count": 3,
   "metadata": {
    "collapsed": false,
    "scrolled": true
   },
   "outputs": [
    {
     "data": {
      "text/html": [
       "<div>\n",
       "<table border=\"1\" class=\"dataframe\">\n",
       "  <thead>\n",
       "    <tr style=\"text-align: right;\">\n",
       "      <th></th>\n",
       "      <th>f1</th>\n",
       "      <th>f2</th>\n",
       "      <th>f3</th>\n",
       "      <th>business_id</th>\n",
       "    </tr>\n",
       "  </thead>\n",
       "  <tbody>\n",
       "    <tr>\n",
       "      <th>19</th>\n",
       "      <td>57</td>\n",
       "      <td>58</td>\n",
       "      <td>59</td>\n",
       "      <td>1</td>\n",
       "    </tr>\n",
       "    <tr>\n",
       "      <th>2</th>\n",
       "      <td>6</td>\n",
       "      <td>7</td>\n",
       "      <td>8</td>\n",
       "      <td>1</td>\n",
       "    </tr>\n",
       "    <tr>\n",
       "      <th>28</th>\n",
       "      <td>84</td>\n",
       "      <td>85</td>\n",
       "      <td>86</td>\n",
       "      <td>1</td>\n",
       "    </tr>\n",
       "    <tr>\n",
       "      <th>13</th>\n",
       "      <td>39</td>\n",
       "      <td>40</td>\n",
       "      <td>41</td>\n",
       "      <td>1</td>\n",
       "    </tr>\n",
       "    <tr>\n",
       "      <th>12</th>\n",
       "      <td>36</td>\n",
       "      <td>37</td>\n",
       "      <td>38</td>\n",
       "      <td>1</td>\n",
       "    </tr>\n",
       "    <tr>\n",
       "      <th>24</th>\n",
       "      <td>72</td>\n",
       "      <td>73</td>\n",
       "      <td>74</td>\n",
       "      <td>1</td>\n",
       "    </tr>\n",
       "    <tr>\n",
       "      <th>22</th>\n",
       "      <td>66</td>\n",
       "      <td>67</td>\n",
       "      <td>68</td>\n",
       "      <td>2</td>\n",
       "    </tr>\n",
       "    <tr>\n",
       "      <th>16</th>\n",
       "      <td>48</td>\n",
       "      <td>49</td>\n",
       "      <td>50</td>\n",
       "      <td>2</td>\n",
       "    </tr>\n",
       "    <tr>\n",
       "      <th>6</th>\n",
       "      <td>18</td>\n",
       "      <td>19</td>\n",
       "      <td>20</td>\n",
       "      <td>2</td>\n",
       "    </tr>\n",
       "    <tr>\n",
       "      <th>20</th>\n",
       "      <td>60</td>\n",
       "      <td>61</td>\n",
       "      <td>62</td>\n",
       "      <td>2</td>\n",
       "    </tr>\n",
       "    <tr>\n",
       "      <th>25</th>\n",
       "      <td>75</td>\n",
       "      <td>76</td>\n",
       "      <td>77</td>\n",
       "      <td>2</td>\n",
       "    </tr>\n",
       "    <tr>\n",
       "      <th>15</th>\n",
       "      <td>45</td>\n",
       "      <td>46</td>\n",
       "      <td>47</td>\n",
       "      <td>3</td>\n",
       "    </tr>\n",
       "    <tr>\n",
       "      <th>9</th>\n",
       "      <td>27</td>\n",
       "      <td>28</td>\n",
       "      <td>29</td>\n",
       "      <td>3</td>\n",
       "    </tr>\n",
       "    <tr>\n",
       "      <th>7</th>\n",
       "      <td>21</td>\n",
       "      <td>22</td>\n",
       "      <td>23</td>\n",
       "      <td>4</td>\n",
       "    </tr>\n",
       "    <tr>\n",
       "      <th>5</th>\n",
       "      <td>15</td>\n",
       "      <td>16</td>\n",
       "      <td>17</td>\n",
       "      <td>4</td>\n",
       "    </tr>\n",
       "    <tr>\n",
       "      <th>4</th>\n",
       "      <td>12</td>\n",
       "      <td>13</td>\n",
       "      <td>14</td>\n",
       "      <td>4</td>\n",
       "    </tr>\n",
       "    <tr>\n",
       "      <th>3</th>\n",
       "      <td>9</td>\n",
       "      <td>10</td>\n",
       "      <td>11</td>\n",
       "      <td>4</td>\n",
       "    </tr>\n",
       "    <tr>\n",
       "      <th>27</th>\n",
       "      <td>81</td>\n",
       "      <td>82</td>\n",
       "      <td>83</td>\n",
       "      <td>4</td>\n",
       "    </tr>\n",
       "    <tr>\n",
       "      <th>29</th>\n",
       "      <td>87</td>\n",
       "      <td>88</td>\n",
       "      <td>89</td>\n",
       "      <td>4</td>\n",
       "    </tr>\n",
       "    <tr>\n",
       "      <th>26</th>\n",
       "      <td>78</td>\n",
       "      <td>79</td>\n",
       "      <td>80</td>\n",
       "      <td>5</td>\n",
       "    </tr>\n",
       "    <tr>\n",
       "      <th>0</th>\n",
       "      <td>0</td>\n",
       "      <td>1</td>\n",
       "      <td>2</td>\n",
       "      <td>5</td>\n",
       "    </tr>\n",
       "    <tr>\n",
       "      <th>10</th>\n",
       "      <td>30</td>\n",
       "      <td>31</td>\n",
       "      <td>32</td>\n",
       "      <td>5</td>\n",
       "    </tr>\n",
       "    <tr>\n",
       "      <th>14</th>\n",
       "      <td>42</td>\n",
       "      <td>43</td>\n",
       "      <td>44</td>\n",
       "      <td>5</td>\n",
       "    </tr>\n",
       "    <tr>\n",
       "      <th>21</th>\n",
       "      <td>63</td>\n",
       "      <td>64</td>\n",
       "      <td>65</td>\n",
       "      <td>6</td>\n",
       "    </tr>\n",
       "    <tr>\n",
       "      <th>23</th>\n",
       "      <td>69</td>\n",
       "      <td>70</td>\n",
       "      <td>71</td>\n",
       "      <td>6</td>\n",
       "    </tr>\n",
       "    <tr>\n",
       "      <th>8</th>\n",
       "      <td>24</td>\n",
       "      <td>25</td>\n",
       "      <td>26</td>\n",
       "      <td>6</td>\n",
       "    </tr>\n",
       "    <tr>\n",
       "      <th>1</th>\n",
       "      <td>3</td>\n",
       "      <td>4</td>\n",
       "      <td>5</td>\n",
       "      <td>6</td>\n",
       "    </tr>\n",
       "    <tr>\n",
       "      <th>17</th>\n",
       "      <td>51</td>\n",
       "      <td>52</td>\n",
       "      <td>53</td>\n",
       "      <td>7</td>\n",
       "    </tr>\n",
       "    <tr>\n",
       "      <th>11</th>\n",
       "      <td>33</td>\n",
       "      <td>34</td>\n",
       "      <td>35</td>\n",
       "      <td>7</td>\n",
       "    </tr>\n",
       "    <tr>\n",
       "      <th>18</th>\n",
       "      <td>54</td>\n",
       "      <td>55</td>\n",
       "      <td>56</td>\n",
       "      <td>7</td>\n",
       "    </tr>\n",
       "  </tbody>\n",
       "</table>\n",
       "</div>"
      ],
      "text/plain": [
       "    f1  f2  f3  business_id\n",
       "19  57  58  59            1\n",
       "2    6   7   8            1\n",
       "28  84  85  86            1\n",
       "13  39  40  41            1\n",
       "12  36  37  38            1\n",
       "24  72  73  74            1\n",
       "22  66  67  68            2\n",
       "16  48  49  50            2\n",
       "6   18  19  20            2\n",
       "20  60  61  62            2\n",
       "25  75  76  77            2\n",
       "15  45  46  47            3\n",
       "9   27  28  29            3\n",
       "7   21  22  23            4\n",
       "5   15  16  17            4\n",
       "4   12  13  14            4\n",
       "3    9  10  11            4\n",
       "27  81  82  83            4\n",
       "29  87  88  89            4\n",
       "26  78  79  80            5\n",
       "0    0   1   2            5\n",
       "10  30  31  32            5\n",
       "14  42  43  44            5\n",
       "21  63  64  65            6\n",
       "23  69  70  71            6\n",
       "8   24  25  26            6\n",
       "1    3   4   5            6\n",
       "17  51  52  53            7\n",
       "11  33  34  35            7\n",
       "18  54  55  56            7"
      ]
     },
     "execution_count": 3,
     "metadata": {},
     "output_type": "execute_result"
    }
   ],
   "source": [
    "vgg_cols = ['f1', 'f2', 'f3']\n",
    "categories = ['business_id']\n",
    "\n",
    "data_train = pd.concat([\n",
    "    pd.DataFrame(X, columns=vgg_cols),\n",
    "    pd.DataFrame(labels, columns=['business_id'])\n",
    "  ], axis=1)\n",
    "data_train = data_train.sort_values('business_id')\n",
    "data_train"
   ]
  },
  {
   "cell_type": "code",
   "execution_count": 4,
   "metadata": {
    "collapsed": false
   },
   "outputs": [
    {
     "data": {
      "text/plain": [
       "array([1, 2, 3, 4, 5, 6, 7])"
      ]
     },
     "execution_count": 4,
     "metadata": {},
     "output_type": "execute_result"
    }
   ],
   "source": [
    "train_cases = data_train.business_id.unique()\n",
    "train_cases"
   ]
  },
  {
   "cell_type": "code",
   "execution_count": 30,
   "metadata": {
    "collapsed": true
   },
   "outputs": [],
   "source": [
    "data_val = data_train\n",
    "val_cases = train_cases"
   ]
  },
  {
   "cell_type": "code",
   "execution_count": 36,
   "metadata": {
    "collapsed": true
   },
   "outputs": [],
   "source": [
    "def train_generator_chunked(n_batches, maxlen, dimin, dimout):\n",
    "  while True:\n",
    "    shuffled = train_cases.copy()\n",
    "    np.random.shuffle(shuffled)\n",
    "    \n",
    "    batches = np.array_split(shuffled, n_batches)\n",
    "    print batches\n",
    "    \n",
    "    for batch in batches:\n",
    "      X = np.zeros((len(batch), maxlen, dimin)) - 1\n",
    "      Y = np.zeros((len(batch), dimout))\n",
    "      \n",
    "      for idx, case in enumerate(batch):\n",
    "        res = data_train[data_train.business_id == case]\n",
    "        \n",
    "        # set Y, it is easy\n",
    "        Y[idx] = np.array(res[categories][:1])\n",
    "        \n",
    "        # set X if there are fewer rows than required\n",
    "        res = res.sample(len(res)) # shuffle rows\n",
    "        res = np.array(res[vgg_cols])\n",
    "        \n",
    "        if len(res) < maxlen:\n",
    "          X[idx, :len(res)] = res\n",
    "        else:\n",
    "          i = 0\n",
    "          for c in np.array_split(res, maxlen):\n",
    "            X[idx, i] = c.mean(axis=0)\n",
    "            i += 1\n",
    "\n",
    "      yield (X, Y)\n",
    "\n",
    "\n",
    "def val_generator_chunked(n_batches, maxlen, dimin, dimout):\n",
    "  while True:\n",
    "    batches = np.array_split(val_cases, n_batches)\n",
    "    print batches\n",
    "    \n",
    "    for batch in batches:\n",
    "      X = np.zeros((len(batch), maxlen, dimin)) - 1\n",
    "      Y = np.zeros((len(batch), dimout))\n",
    "      \n",
    "      for idx, case in enumerate(batch):\n",
    "        res = data_val[data_val.business_id == case]\n",
    "        \n",
    "        # set Y, it is easy\n",
    "        Y[idx] = np.array(res[categories][:1])\n",
    "        \n",
    "        # set X if there are fewer rows than required\n",
    "        res = np.array(res[vgg_cols])\n",
    "        \n",
    "        if len(res) < maxlen:\n",
    "          X[idx, :len(res)] = res\n",
    "        else:\n",
    "          i = 0\n",
    "          for c in np.array_split(res, maxlen):\n",
    "            X[idx, i] = c.mean(axis=0)\n",
    "            i += 1\n",
    "\n",
    "      yield (X, Y)"
   ]
  },
  {
   "cell_type": "code",
   "execution_count": 37,
   "metadata": {
    "collapsed": true
   },
   "outputs": [],
   "source": [
    "maxlen = 4\n",
    "dimin  = 3\n",
    "dimout = 1"
   ]
  },
  {
   "cell_type": "code",
   "execution_count": 38,
   "metadata": {
    "collapsed": false
   },
   "outputs": [],
   "source": [
    "t = val_generator_chunked(2, maxlen, dimin, dimout)"
   ]
  },
  {
   "cell_type": "code",
   "execution_count": 45,
   "metadata": {
    "collapsed": false
   },
   "outputs": [],
   "source": [
    "i = next(t)"
   ]
  },
  {
   "cell_type": "code",
   "execution_count": 49,
   "metadata": {
    "collapsed": false
   },
   "outputs": [
    {
     "data": {
      "text/html": [
       "<div>\n",
       "<table border=\"1\" class=\"dataframe\">\n",
       "  <thead>\n",
       "    <tr style=\"text-align: right;\">\n",
       "      <th></th>\n",
       "      <th>f1</th>\n",
       "      <th>f2</th>\n",
       "      <th>f3</th>\n",
       "      <th>business_id</th>\n",
       "    </tr>\n",
       "  </thead>\n",
       "  <tbody>\n",
       "    <tr>\n",
       "      <th>17</th>\n",
       "      <td>51</td>\n",
       "      <td>52</td>\n",
       "      <td>53</td>\n",
       "      <td>7</td>\n",
       "    </tr>\n",
       "    <tr>\n",
       "      <th>11</th>\n",
       "      <td>33</td>\n",
       "      <td>34</td>\n",
       "      <td>35</td>\n",
       "      <td>7</td>\n",
       "    </tr>\n",
       "    <tr>\n",
       "      <th>18</th>\n",
       "      <td>54</td>\n",
       "      <td>55</td>\n",
       "      <td>56</td>\n",
       "      <td>7</td>\n",
       "    </tr>\n",
       "  </tbody>\n",
       "</table>\n",
       "</div>"
      ],
      "text/plain": [
       "    f1  f2  f3  business_id\n",
       "17  51  52  53            7\n",
       "11  33  34  35            7\n",
       "18  54  55  56            7"
      ]
     },
     "execution_count": 49,
     "metadata": {},
     "output_type": "execute_result"
    }
   ],
   "source": [
    "data_train[data_train.business_id == 7]"
   ]
  },
  {
   "cell_type": "code",
   "execution_count": 47,
   "metadata": {
    "collapsed": false
   },
   "outputs": [
    {
     "data": {
      "text/plain": [
       "array([[[ 78.,  79.,  80.],\n",
       "        [  0.,   1.,   2.],\n",
       "        [ 30.,  31.,  32.],\n",
       "        [ 42.,  43.,  44.]],\n",
       "\n",
       "       [[ 63.,  64.,  65.],\n",
       "        [ 69.,  70.,  71.],\n",
       "        [ 24.,  25.,  26.],\n",
       "        [  3.,   4.,   5.]],\n",
       "\n",
       "       [[ 51.,  52.,  53.],\n",
       "        [ 33.,  34.,  35.],\n",
       "        [ 54.,  55.,  56.],\n",
       "        [ -1.,  -1.,  -1.]]])"
      ]
     },
     "execution_count": 47,
     "metadata": {},
     "output_type": "execute_result"
    }
   ],
   "source": [
    "i[0]"
   ]
  },
  {
   "cell_type": "code",
   "execution_count": 24,
   "metadata": {
    "collapsed": false
   },
   "outputs": [
    {
     "data": {
      "text/plain": [
       "array([[[ 69. ,  70. ,  71. ],\n",
       "        [ 24. ,  25. ,  26. ],\n",
       "        [ 63. ,  64. ,  65. ],\n",
       "        [  3. ,   4. ,   5. ]],\n",
       "\n",
       "       [[ 39. ,  40. ,  41. ],\n",
       "        [ 75. ,  76. ,  77. ],\n",
       "        [ 66. ,  67. ,  68. ],\n",
       "        [ 48. ,  49. ,  50. ]],\n",
       "\n",
       "       [[ 46.5,  47.5,  48.5],\n",
       "        [ 78. ,  79. ,  80. ],\n",
       "        [ 39. ,  40. ,  41. ],\n",
       "        [  6. ,   7. ,   8. ]]])"
      ]
     },
     "execution_count": 24,
     "metadata": {},
     "output_type": "execute_result"
    }
   ],
   "source": [
    "i[0]"
   ]
  }
 ],
 "metadata": {
  "kernelspec": {
   "display_name": "Python 2",
   "language": "python",
   "name": "python2"
  },
  "language_info": {
   "codemirror_mode": {
    "name": "ipython",
    "version": 2
   },
   "file_extension": ".py",
   "mimetype": "text/x-python",
   "name": "python",
   "nbconvert_exporter": "python",
   "pygments_lexer": "ipython2",
   "version": "2.7.10"
  }
 },
 "nbformat": 4,
 "nbformat_minor": 0
}
