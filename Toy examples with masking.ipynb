{
 "cells": [
  {
   "cell_type": "code",
   "execution_count": 1,
   "metadata": {
    "collapsed": true
   },
   "outputs": [],
   "source": [
    "import numpy as np"
   ]
  },
  {
   "cell_type": "code",
   "execution_count": 2,
   "metadata": {
    "collapsed": false
   },
   "outputs": [
    {
     "name": "stderr",
     "output_type": "stream",
     "text": [
      "Using Theano backend.\n",
      "/home/budmitr/anaconda/lib/python2.7/site-packages/theano/tensor/signal/downsample.py:5: UserWarning: downsample module has been moved to the pool module.\n",
      "  warnings.warn(\"downsample module has been moved to the pool module.\")\n"
     ]
    }
   ],
   "source": [
    "from keras.models import Sequential\n",
    "from keras.layers import SimpleRNN, Masking\n",
    "import keras.backend as K"
   ]
  },
  {
   "cell_type": "code",
   "execution_count": 92,
   "metadata": {
    "collapsed": true
   },
   "outputs": [],
   "source": [
    "X = np.array([\n",
    "    [[1, 1, 1], [2, 2, 2], [-1, -1, -1], [-1, -1, -1], [-1, -1, -1]],\n",
    "    [[4, 4, 4], [-1, -1, -1], [-1, -1, -1], [-1, -1, -1], [-1, -1, -1]]\n",
    "  ]).astype(np.float32)\n",
    "\n",
    "X1 = np.array([\n",
    "    [[1, 1, 1], [2, 2, 2], [-1, -1, -1], [-1, -1, -1]],\n",
    "    [[4, 4, 4], [-1, -1, -1], [-1, -1, -1], [-1, -1, -1]]\n",
    "  ]).astype(np.float32)\n",
    "\n",
    "X2 = np.array([\n",
    "    [[1, 1, 1], [2, 2, 2], [-1, -1, -1]],\n",
    "    [[4, 4, 4], [-1, -1, -1], [-1, -1, -1]]\n",
    "  ])\n",
    "\n",
    "X3 = np.array([\n",
    "    [[1, 1, 1], [2, 2, 2]],\n",
    "    [[4, 4, 4], [-1, -1, -1]]\n",
    "  ])"
   ]
  },
  {
   "cell_type": "code",
   "execution_count": 94,
   "metadata": {
    "collapsed": false
   },
   "outputs": [],
   "source": [
    "np.random.seed(0)\n",
    "model = Sequential()\n",
    "model.add(Masking(-1, input_shape=(5,3)))\n",
    "model.add(SimpleRNN(1, activation='linear', input_shape=(5,3)))\n",
    "model.compile(optimizer='sgd', loss='mae')"
   ]
  },
  {
   "cell_type": "code",
   "execution_count": 95,
   "metadata": {
    "collapsed": false
   },
   "outputs": [
    {
     "name": "stdout",
     "output_type": "stream",
     "text": [
      "[[ 3.6088047 ]\n",
      " [ 4.65652227]]\n",
      "\n",
      "[[ 3.6088047 ]\n",
      " [ 4.65652227]]\n",
      "\n",
      "[[ 3.6088047 ]\n",
      " [ 4.65652227]]\n",
      "\n",
      "[[ 3.6088047 ]\n",
      " [ 4.65652227]]\n"
     ]
    }
   ],
   "source": [
    "print model.predict(X)\n",
    "print\n",
    "print model.predict(X1)\n",
    "print\n",
    "print model.predict(X2)\n",
    "print\n",
    "print model.predict(X3)"
   ]
  },
  {
   "cell_type": "code",
   "execution_count": 91,
   "metadata": {
    "collapsed": false
   },
   "outputs": [
    {
     "name": "stdout",
     "output_type": "stream",
     "text": [
      "[[-2.07339478]\n",
      " [ 5.45987654]]\n",
      "\n",
      "[[ 1.06818604]\n",
      " [-5.78024244]]\n",
      "\n",
      "[[-1.7877965 ]\n",
      " [ 4.43804741]]\n",
      "\n",
      "[[ 0.80855113]\n",
      " [-4.85130692]]\n"
     ]
    }
   ],
   "source": [
    "print model.predict(X)\n",
    "print\n",
    "print model.predict(X1)\n",
    "print\n",
    "print model.predict(X2)\n",
    "print\n",
    "print model.predict(X3)"
   ]
  },
  {
   "cell_type": "code",
   "execution_count": 12,
   "metadata": {
    "collapsed": true
   },
   "outputs": [],
   "source": [
    "getmask = K.function([model.layers[0].get_input()], [model.layers[0].get_output_mask()])"
   ]
  },
  {
   "cell_type": "code",
   "execution_count": 24,
   "metadata": {
    "collapsed": false
   },
   "outputs": [
    {
     "data": {
      "text/plain": [
       "[array([[1, 1, 0],\n",
       "        [1, 0, 0]], dtype=int8)]"
      ]
     },
     "execution_count": 24,
     "metadata": {},
     "output_type": "execute_result"
    }
   ],
   "source": [
    "getmask([X])"
   ]
  }
 ],
 "metadata": {
  "kernelspec": {
   "display_name": "Python 2",
   "language": "python",
   "name": "python2"
  },
  "language_info": {
   "codemirror_mode": {
    "name": "ipython",
    "version": 2
   },
   "file_extension": ".py",
   "mimetype": "text/x-python",
   "name": "python",
   "nbconvert_exporter": "python",
   "pygments_lexer": "ipython2",
   "version": "2.7.10"
  }
 },
 "nbformat": 4,
 "nbformat_minor": 0
}
